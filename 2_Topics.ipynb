{
 "cells": [
  {
   "cell_type": "markdown",
   "metadata": {},
   "source": [
    "# Topics"
   ]
  },
  {
   "cell_type": "code",
   "execution_count": 57,
   "metadata": {},
   "outputs": [],
   "source": [
    "import pandas as pd\n",
    "from stop_words import get_stop_words\n",
    "import string\n",
    "import unicodedata\n",
    "from num2words import num2words\n",
    "\n",
    "import gensim\n",
    "from gensim.corpora import Dictionary\n",
    "from gensim.models import LdaModel, CoherenceModel\n",
    "\n",
    "import pyLDAvis\n",
    "import pyLDAvis.gensim\n",
    "import matplotlib.pyplot as plt"
   ]
  },
  {
   "cell_type": "markdown",
   "metadata": {},
   "source": [
    "Cargamos los datos obtenidos en el primer punto de la práctica."
   ]
  },
  {
   "cell_type": "code",
   "execution_count": 58,
   "metadata": {},
   "outputs": [],
   "source": [
    "df = pd.read_csv('./dataset/amazon.csv')"
   ]
  },
  {
   "cell_type": "markdown",
   "metadata": {},
   "source": [
    "Recortamos el dataset a los primeros 3000 registros (recuerdo que en el punto anterior ya se mezclaron estos registros)."
   ]
  },
  {
   "cell_type": "code",
   "execution_count": 59,
   "metadata": {},
   "outputs": [],
   "source": [
    "df = df.iloc[:3000]\n",
    "df.dropna(inplace=True)"
   ]
  },
  {
   "cell_type": "code",
   "execution_count": 60,
   "metadata": {},
   "outputs": [
    {
     "data": {
      "text/plain": [
       "reviewText    False\n",
       "overall       False\n",
       "dtype: bool"
      ]
     },
     "execution_count": 60,
     "metadata": {},
     "output_type": "execute_result"
    }
   ],
   "source": [
    "df.isnull().any()"
   ]
  },
  {
   "cell_type": "markdown",
   "metadata": {},
   "source": [
    "Podemos eliminar la columna overall porque no aporta información para este ejercicio."
   ]
  },
  {
   "cell_type": "code",
   "execution_count": 61,
   "metadata": {},
   "outputs": [
    {
     "data": {
      "text/html": [
       "<div>\n",
       "<style scoped>\n",
       "    .dataframe tbody tr th:only-of-type {\n",
       "        vertical-align: middle;\n",
       "    }\n",
       "\n",
       "    .dataframe tbody tr th {\n",
       "        vertical-align: top;\n",
       "    }\n",
       "\n",
       "    .dataframe thead th {\n",
       "        text-align: right;\n",
       "    }\n",
       "</style>\n",
       "<table border=\"1\" class=\"dataframe\">\n",
       "  <thead>\n",
       "    <tr style=\"text-align: right;\">\n",
       "      <th></th>\n",
       "      <th>reviewText</th>\n",
       "    </tr>\n",
       "  </thead>\n",
       "  <tbody>\n",
       "    <tr>\n",
       "      <th>0</th>\n",
       "      <td>When I ordered this trap, we had a critter, mo...</td>\n",
       "    </tr>\n",
       "    <tr>\n",
       "      <th>1</th>\n",
       "      <td>This trap was requested to replace an older HA...</td>\n",
       "    </tr>\n",
       "    <tr>\n",
       "      <th>2</th>\n",
       "      <td>I waited to write this as it is both difficult...</td>\n",
       "    </tr>\n",
       "    <tr>\n",
       "      <th>3</th>\n",
       "      <td>I had purchased one a while back for my electr...</td>\n",
       "    </tr>\n",
       "    <tr>\n",
       "      <th>4</th>\n",
       "      <td>received them in four days....just in time for...</td>\n",
       "    </tr>\n",
       "  </tbody>\n",
       "</table>\n",
       "</div>"
      ],
      "text/plain": [
       "                                          reviewText\n",
       "0  When I ordered this trap, we had a critter, mo...\n",
       "1  This trap was requested to replace an older HA...\n",
       "2  I waited to write this as it is both difficult...\n",
       "3  I had purchased one a while back for my electr...\n",
       "4  received them in four days....just in time for..."
      ]
     },
     "execution_count": 61,
     "metadata": {},
     "output_type": "execute_result"
    }
   ],
   "source": [
    "df.drop('overall', axis=1, inplace=True)\n",
    "df.head()"
   ]
  },
  {
   "cell_type": "markdown",
   "metadata": {},
   "source": [
    "Vamos a realizar el preprocesado del texto."
   ]
  },
  {
   "cell_type": "code",
   "execution_count": 62,
   "metadata": {},
   "outputs": [],
   "source": [
    "# Obtenemos un diccionario de lemas\n",
    "lemmas_dict = {}\n",
    "with open('./dataset/lemmatization-en.txt', 'r', encoding='utf-8') as f:\n",
    "    for line in f:\n",
    "        (key, val) = line.split()\n",
    "        lemmas_dict[str(val)] = key"
   ]
  },
  {
   "cell_type": "code",
   "execution_count": 63,
   "metadata": {},
   "outputs": [],
   "source": [
    "# Obtenemos una lista de stopwords\n",
    "sw_list = get_stop_words('en')"
   ]
  },
  {
   "cell_type": "code",
   "execution_count": 64,
   "metadata": {},
   "outputs": [],
   "source": [
    "# Tabla para eliminar signos de puntuación\n",
    "table = str.maketrans('', '', string.punctuation)\n",
    "# Procesamos los textos\n",
    "processed_texts = []\n",
    "for text in df['reviewText']:\n",
    "    processed_text = []\n",
    "    # Convertimos el texto a minúsuculas\n",
    "    text = text.lower()\n",
    "    # Eliminamos caracteres extraños\n",
    "    text = unicodedata.normalize('NFKD', text).encode('ascii', 'ignore').decode('utf-8', 'ignore')\n",
    "    # Segmentamos el texto en frases\n",
    "    sentences = text.split('.')\n",
    "    # Para cada frase\n",
    "    for sentence in sentences:\n",
    "        words = sentence.split(' ')\n",
    "        # Para cada palabra\n",
    "        for word in words:\n",
    "            # Eliminamos stopwords y signos de puntuación\n",
    "            if word not in string.punctuation and word not in sw_list: \n",
    "                word = word.translate(table)\n",
    "                word = lemmas_dict.get(word, word)\n",
    "                # Pasamos lo números a palabras\n",
    "                if word.isdigit():\n",
    "                    word = num2words(word, lang='en')\n",
    "                # Eliminamos palabras menores de 3 letras\n",
    "                if len(word) > 3:\n",
    "                    processed_text.append(word)\n",
    "    processed_texts.append(processed_text)"
   ]
  },
  {
   "cell_type": "code",
   "execution_count": 65,
   "metadata": {},
   "outputs": [
    {
     "data": {
      "text/plain": [
       "2997"
      ]
     },
     "execution_count": 65,
     "metadata": {},
     "output_type": "execute_result"
    }
   ],
   "source": [
    "len(processed_texts)"
   ]
  },
  {
   "cell_type": "code",
   "execution_count": 66,
   "metadata": {},
   "outputs": [
    {
     "name": "stdout",
     "output_type": "stream",
     "text": [
      "['plus', 'minus', 'clip', 'roomy', 'large', 'stem', 'soft', 'little', 'likely', 'bruise', 'otherwise', 'damage', 'stem', 'good', 'thing', 'plant', 'clip', 'however', 'softness', 'tend', 'make', 'seem', 'rather', 'flimsy', 'reserve', 'judgment', 'aspect', 'weather', 'season', 'garden', 'love', 'fact', 'lock', 'pull', 'casually', 'plant', 'buffet', 'weather', 'maraud', 'wildlife', 'though', 'confess', 'clip', 'easy', 'dislodge', 'either', 'possibly', 'need', 'good', 'deal', 'force', 'open', 'however', 'problem', 'order', 'place', 'move', 'hand', 'rather', 'foliage', 'normal', 'huge', 'problem', 'plant', 'rose', 'good', 'bite', 'girl', 'take', 'kindly', 'constrain', 'hang', 'them', 'imagine', 'much', 'wrong', 'sort', 'clip', 'right', 'little', 'skittish', 'thank', 'goodness', 'winter', 'practice', 'think', 'overall', 'like', 'clip', 'necessarily', 'know', 'like', 'much', 'well', 'really', 'issue', 'work', 'work', 'that', 'important', 'thing', 'garden', 'give', 'expensive', 'twist', 'reusable', 'probably', 'safe', 'plant']\n"
     ]
    }
   ],
   "source": [
    "print(processed_texts[5])"
   ]
  },
  {
   "cell_type": "markdown",
   "metadata": {},
   "source": [
    "Como podemos ver ya tenemos los textos de las 3000 reviews y sus palabras más significativas.\n",
    "\n",
    "Vamos a preparar el texto para para introducirlo a un modelo LDA y entrenarlo."
   ]
  },
  {
   "cell_type": "code",
   "execution_count": 67,
   "metadata": {},
   "outputs": [],
   "source": [
    "dictionary = Dictionary(processed_texts)"
   ]
  },
  {
   "cell_type": "code",
   "execution_count": 68,
   "metadata": {},
   "outputs": [
    {
     "data": {
      "text/plain": [
       "gensim.corpora.dictionary.Dictionary"
      ]
     },
     "execution_count": 68,
     "metadata": {},
     "output_type": "execute_result"
    }
   ],
   "source": [
    "type(dictionary)"
   ]
  },
  {
   "cell_type": "code",
   "execution_count": 69,
   "metadata": {},
   "outputs": [
    {
     "data": {
      "text/plain": [
       "11159"
      ]
     },
     "execution_count": 69,
     "metadata": {},
     "output_type": "execute_result"
    }
   ],
   "source": [
    "# Comprobamos el tamaño de nuestro diccionario\n",
    "len(dictionary)"
   ]
  },
  {
   "cell_type": "code",
   "execution_count": 70,
   "metadata": {},
   "outputs": [],
   "source": [
    "# Creamos una lista numérica con el índice de la palabra y su frecuencia en el texto\n",
    "corpus = [dictionary.doc2bow(doc) for doc in processed_texts]"
   ]
  },
  {
   "cell_type": "code",
   "execution_count": 71,
   "metadata": {},
   "outputs": [
    {
     "name": "stdout",
     "output_type": "stream",
     "text": [
      "[(3, 1), (15, 1), (42, 1), (103, 1), (108, 1), (125, 1), (193, 1), (194, 1), (202, 1), (261, 1), (295, 2), (344, 1), (377, 1), (437, 1), (708, 1), (709, 1), (710, 1), (711, 1), (712, 1), (713, 1), (714, 1), (715, 1)]\n"
     ]
    }
   ],
   "source": [
    "print(corpus[21])"
   ]
  },
  {
   "cell_type": "markdown",
   "metadata": {},
   "source": [
    "Entrenamos al modelo LDA."
   ]
  },
  {
   "cell_type": "code",
   "execution_count": 72,
   "metadata": {},
   "outputs": [],
   "source": [
    "# Elegimos 3 topics porque hemos mezclado 3 tipos de reviews (bebés, jardín e intrumentos musicales)\n",
    "num_topics = 3\n",
    "\n",
    "lda_model = LdaModel(\n",
    "    corpus=corpus,\n",
    "    id2word=dictionary,\n",
    "    num_topics=num_topics,\n",
    "    iterations=5,\n",
    "    passes=10,\n",
    "    alpha='auto'\n",
    ")"
   ]
  },
  {
   "cell_type": "code",
   "execution_count": 73,
   "metadata": {},
   "outputs": [
    {
     "data": {
      "text/plain": [
       "[(0,\n",
       "  '0.012*\"good\" + 0.011*\"easy\" + 0.009*\"make\" + 0.009*\"bottle\" + 0.009*\"time\" + 0.009*\"baby\" + 0.008*\"great\" + 0.008*\"work\" + 0.008*\"just\" + 0.007*\"little\"'),\n",
       " (1,\n",
       "  '0.009*\"like\" + 0.009*\"feeder\" + 0.009*\"good\" + 0.008*\"work\" + 0.007*\"will\" + 0.006*\"product\" + 0.006*\"little\" + 0.006*\"mouse\" + 0.006*\"just\" + 0.006*\"trap\"'),\n",
       " (2,\n",
       "  '0.016*\"good\" + 0.012*\"like\" + 0.012*\"sound\" + 0.011*\"guitar\" + 0.010*\"string\" + 0.010*\"just\" + 0.010*\"great\" + 0.009*\"work\" + 0.008*\"need\" + 0.008*\"well\"')]"
      ]
     },
     "execution_count": 73,
     "metadata": {},
     "output_type": "execute_result"
    }
   ],
   "source": [
    "lda_model.show_topics()"
   ]
  },
  {
   "cell_type": "code",
   "execution_count": 74,
   "metadata": {},
   "outputs": [
    {
     "data": {
      "text/html": [
       "<div>\n",
       "<style scoped>\n",
       "    .dataframe tbody tr th:only-of-type {\n",
       "        vertical-align: middle;\n",
       "    }\n",
       "\n",
       "    .dataframe tbody tr th {\n",
       "        vertical-align: top;\n",
       "    }\n",
       "\n",
       "    .dataframe thead th {\n",
       "        text-align: right;\n",
       "    }\n",
       "</style>\n",
       "<table border=\"1\" class=\"dataframe\">\n",
       "  <thead>\n",
       "    <tr style=\"text-align: right;\">\n",
       "      <th></th>\n",
       "      <th>Topic #01</th>\n",
       "      <th>Topic #02</th>\n",
       "      <th>Topic #03</th>\n",
       "    </tr>\n",
       "  </thead>\n",
       "  <tbody>\n",
       "    <tr>\n",
       "      <th>0</th>\n",
       "      <td>good</td>\n",
       "      <td>like</td>\n",
       "      <td>good</td>\n",
       "    </tr>\n",
       "    <tr>\n",
       "      <th>1</th>\n",
       "      <td>easy</td>\n",
       "      <td>feeder</td>\n",
       "      <td>like</td>\n",
       "    </tr>\n",
       "    <tr>\n",
       "      <th>2</th>\n",
       "      <td>make</td>\n",
       "      <td>good</td>\n",
       "      <td>sound</td>\n",
       "    </tr>\n",
       "    <tr>\n",
       "      <th>3</th>\n",
       "      <td>bottle</td>\n",
       "      <td>work</td>\n",
       "      <td>guitar</td>\n",
       "    </tr>\n",
       "    <tr>\n",
       "      <th>4</th>\n",
       "      <td>time</td>\n",
       "      <td>will</td>\n",
       "      <td>string</td>\n",
       "    </tr>\n",
       "    <tr>\n",
       "      <th>5</th>\n",
       "      <td>baby</td>\n",
       "      <td>product</td>\n",
       "      <td>just</td>\n",
       "    </tr>\n",
       "    <tr>\n",
       "      <th>6</th>\n",
       "      <td>great</td>\n",
       "      <td>little</td>\n",
       "      <td>great</td>\n",
       "    </tr>\n",
       "    <tr>\n",
       "      <th>7</th>\n",
       "      <td>work</td>\n",
       "      <td>mouse</td>\n",
       "      <td>work</td>\n",
       "    </tr>\n",
       "    <tr>\n",
       "      <th>8</th>\n",
       "      <td>just</td>\n",
       "      <td>just</td>\n",
       "      <td>need</td>\n",
       "    </tr>\n",
       "    <tr>\n",
       "      <th>9</th>\n",
       "      <td>little</td>\n",
       "      <td>trap</td>\n",
       "      <td>well</td>\n",
       "    </tr>\n",
       "    <tr>\n",
       "      <th>10</th>\n",
       "      <td>will</td>\n",
       "      <td>keep</td>\n",
       "      <td>play</td>\n",
       "    </tr>\n",
       "    <tr>\n",
       "      <th>11</th>\n",
       "      <td>trap</td>\n",
       "      <td>make</td>\n",
       "      <td>pick</td>\n",
       "    </tr>\n",
       "    <tr>\n",
       "      <th>12</th>\n",
       "      <td>love</td>\n",
       "      <td>bird</td>\n",
       "      <td>make</td>\n",
       "    </tr>\n",
       "    <tr>\n",
       "      <th>13</th>\n",
       "      <td>take</td>\n",
       "      <td>seem</td>\n",
       "      <td>little</td>\n",
       "    </tr>\n",
       "    <tr>\n",
       "      <th>14</th>\n",
       "      <td>back</td>\n",
       "      <td>look</td>\n",
       "      <td>price</td>\n",
       "    </tr>\n",
       "    <tr>\n",
       "      <th>15</th>\n",
       "      <td>conjurer</td>\n",
       "      <td>time</td>\n",
       "      <td>pedal</td>\n",
       "    </tr>\n",
       "    <tr>\n",
       "      <th>16</th>\n",
       "      <td>much</td>\n",
       "      <td>water</td>\n",
       "      <td>will</td>\n",
       "    </tr>\n",
       "    <tr>\n",
       "      <th>17</th>\n",
       "      <td>month</td>\n",
       "      <td>conjurer</td>\n",
       "      <td>really</td>\n",
       "    </tr>\n",
       "    <tr>\n",
       "      <th>18</th>\n",
       "      <td>clean</td>\n",
       "      <td>much</td>\n",
       "      <td>quality</td>\n",
       "    </tr>\n",
       "    <tr>\n",
       "      <th>19</th>\n",
       "      <td>product</td>\n",
       "      <td>come</td>\n",
       "      <td>much</td>\n",
       "    </tr>\n",
       "  </tbody>\n",
       "</table>\n",
       "</div>"
      ],
      "text/plain": [
       "   Topic #01 Topic #02 Topic #03\n",
       "0       good      like      good\n",
       "1       easy    feeder      like\n",
       "2       make      good     sound\n",
       "3     bottle      work    guitar\n",
       "4       time      will    string\n",
       "5       baby   product      just\n",
       "6      great    little     great\n",
       "7       work     mouse      work\n",
       "8       just      just      need\n",
       "9     little      trap      well\n",
       "10      will      keep      play\n",
       "11      trap      make      pick\n",
       "12      love      bird      make\n",
       "13      take      seem    little\n",
       "14      back      look     price\n",
       "15  conjurer      time     pedal\n",
       "16      much     water      will\n",
       "17     month  conjurer    really\n",
       "18     clean      much   quality\n",
       "19   product      come      much"
      ]
     },
     "execution_count": 74,
     "metadata": {},
     "output_type": "execute_result"
    }
   ],
   "source": [
    "word_dict = {};\n",
    "for i in range(num_topics):\n",
    "    words = lda_model.show_topic(i, topn = 20)\n",
    "    word_dict['Topic #' + '{:02d}'.format(i+1)] = [i[0] for i in words]\n",
    "pd.DataFrame(word_dict)"
   ]
  },
  {
   "cell_type": "code",
   "execution_count": 56,
   "metadata": {},
   "outputs": [
    {
     "name": "stdout",
     "output_type": "stream",
     "text": [
      "\n",
      "Perplexity:  -7.669118913200004\n",
      "\n",
      "Coherence Score:  0.32918668570312865\n"
     ]
    }
   ],
   "source": [
    "# Perplexity\n",
    "print('\\nPerplexity: ', lda_model.log_perplexity(corpus))  # Medida de qué tan bueno es el modelo. Cuanto más bajo, mejor\n",
    "\n",
    "# Coherence Score\n",
    "coherence_model_lda = CoherenceModel(model=lda_model, texts=processed_texts, dictionary=dictionary, coherence='c_v')\n",
    "coherence_lda = coherence_model_lda.get_coherence()\n",
    "print('\\nCoherence Score: ', coherence_lda)"
   ]
  },
  {
   "cell_type": "code",
   "execution_count": 75,
   "metadata": {},
   "outputs": [
    {
     "data": {
      "text/html": [
       "\n",
       "<link rel=\"stylesheet\" type=\"text/css\" href=\"https://cdn.rawgit.com/bmabey/pyLDAvis/files/ldavis.v1.0.0.css\">\n",
       "\n",
       "\n",
       "<div id=\"ldavis_el46261404479378644007890459266\"></div>\n",
       "<script type=\"text/javascript\">\n",
       "\n",
       "var ldavis_el46261404479378644007890459266_data = {\"mdsDat\": {\"x\": [-0.04909137138692922, -0.07424188168832062, 0.12333325307524984], \"y\": [0.07454214380765756, -0.06505323237168285, -0.00948891143597477], \"topics\": [1, 2, 3], \"cluster\": [1, 1, 1], \"Freq\": [36.65350341796875, 33.10647964477539, 30.240007400512695]}, \"tinfo\": {\"Term\": [\"sound\", \"guitar\", \"string\", \"feeder\", \"pedal\", \"pick\", \"play\", \"bottle\", \"bird\", \"baby\", \"mouse\", \"cable\", \"trap\", \"quality\", \"grill\", \"tune\", \"seed\", \"bait\", \"chair\", \"tone\", \"like\", \"warm\", \"price\", \"squirrel\", \"microphone\", \"water\", \"record\", \"diaper\", \"seat\", \"deer\", \"grill\", \"weber\", \"charcoal\", \"cook\", \"mirror\", \"cage\", \"blade\", \"thermometer\", \"chip\", \"bathe\", \"coal\", \"moth\", \"pillow\", \"shear\", \"burner\", \"sling\", \"clipper\", \"snoogle\", \"pregnant\", \"boppy\", \"chimney\", \"pregnancy\", \"sprinkler\", \"breastfeed\", \"avent\", \"scissor\", \"meat\", \"smoker\", \"sterilizer\", \"flame\", \"chair\", \"bath\", \"tomato\", \"smoke\", \"nurse\", \"breast\", \"milk\", \"daughter\", \"fold\", \"nipple\", \"seat\", \"pump\", \"infant\", \"newborn\", \"support\", \"bottle\", \"baby\", \"easy\", \"door\", \"month\", \"time\", \"minute\", \"back\", \"clean\", \"love\", \"take\", \"trap\", \"make\", \"great\", \"good\", \"enough\", \"leak\", \"work\", \"find\", \"little\", \"easily\", \"just\", \"conjurer\", \"will\", \"large\", \"long\", \"recommend\", \"much\", \"product\", \"keep\", \"think\", \"small\", \"year\", \"problem\", \"like\", \"feeder\", \"seed\", \"bird\", \"deer\", \"killer\", \"bait\", \"hummingbird\", \"hummer\", \"cloth\", \"wipe\", \"poison\", \"perch\", \"perkypet\", \"lemon\", \"slug\", \"snail\", \"cotton\", \"copper\", \"squirrel\", \"repellent\", \"apply\", \"nectar\", \"refill\", \"reapply\", \"polish\", \"station\", \"dandelion\", \"terro\", \"sleepsack\", \"lantern\", \"tomcat\", \"hose\", \"warm\", \"diaper\", \"flower\", \"attractive\", \"powder\", \"mouse\", \"rain\", \"critter\", \"fill\", \"pail\", \"garden\", \"area\", \"window\", \"spray\", \"base\", \"hole\", \"hang\", \"week\", \"tree\", \"plastic\", \"plant\", \"strap\", \"away\", \"keep\", \"seem\", \"water\", \"product\", \"trap\", \"like\", \"will\", \"look\", \"work\", \"good\", \"little\", \"come\", \"just\", \"make\", \"conjurer\", \"much\", \"time\", \"around\", \"year\", \"easy\", \"thing\", \"think\", \"really\", \"three\", \"microphone\", \"sound\", \"pedal\", \"tone\", \"record\", \"tune\", \"tuner\", \"string\", \"sm7b\", \"volume\", \"mics\", \"distortion\", \"bass\", \"speaker\", \"fender\", \"vocal\", \"shure\", \"studio\", \"player\", \"overdrive\", \"monitor\", \"gain\", \"acoustic\", \"behringer\", \"channel\", \"fuzz\", \"voice\", \"martin\", \"input\", \"mixer\", \"pick\", \"guitar\", \"cable\", \"play\", \"noise\", \"capo\", \"loud\", \"effect\", \"music\", \"mower\", \"instrument\", \"power\", \"quality\", \"case\", \"charge\", \"price\", \"battery\", \"hear\", \"like\", \"good\", \"need\", \"well\", \"great\", \"just\", \"really\", \"work\", \"little\", \"make\", \"will\", \"nice\", \"much\", \"look\", \"still\", \"want\", \"conjurer\", \"thing\", \"think\", \"come\"], \"Freq\": [504.0, 501.0, 450.0, 407.0, 292.0, 320.0, 331.0, 614.0, 243.0, 606.0, 358.0, 180.0, 631.0, 287.0, 184.0, 141.0, 151.0, 158.0, 216.0, 128.0, 1154.0, 192.0, 457.0, 145.0, 117.0, 422.0, 113.0, 171.0, 236.0, 129.0, 182.6590118408203, 84.9372787475586, 43.01359558105469, 41.671024322509766, 68.72794342041016, 33.50895309448242, 73.54653930664062, 22.3571720123291, 40.903465270996094, 29.079483032226562, 18.14025115966797, 44.35443115234375, 74.45923614501953, 19.343454360961914, 14.44182300567627, 41.78058624267578, 23.230928421020508, 13.948246955871582, 19.88446807861328, 16.570558547973633, 12.898569107055664, 16.59710121154785, 28.855417251586914, 46.80900192260742, 93.27135467529297, 37.39234161376953, 39.05630874633789, 73.32434844970703, 17.8195743560791, 11.608477592468262, 202.2593536376953, 83.39171600341797, 44.226261138916016, 79.4883804321289, 43.22414016723633, 59.076255798339844, 88.52043914794922, 178.94482421875, 77.35958099365234, 170.41973876953125, 207.9476776123047, 163.44009399414062, 48.60897445678711, 64.63585662841797, 69.0727767944336, 471.52874755859375, 447.9493103027344, 566.6817626953125, 97.59529876708984, 264.2903747558594, 459.24169921875, 108.56111145019531, 289.6434020996094, 259.66864013671875, 322.7364501953125, 312.6283264160156, 332.442138671875, 481.0748291015625, 439.1631164550781, 615.128662109375, 199.6167755126953, 125.27692413330078, 431.03338623046875, 246.23095703125, 378.1269836425781, 155.58560180664062, 399.55572509765625, 288.0088806152344, 357.8879089355469, 156.88381958007812, 201.34188842773438, 202.6603546142578, 269.01947021484375, 258.9147644042969, 233.1814422607422, 221.4313201904297, 213.8759765625, 208.90394592285156, 203.00601196289062, 203.60076904296875, 404.665771484375, 149.71417236328125, 240.9800567626953, 126.38581085205078, 62.47978973388672, 154.15765380859375, 45.33613586425781, 31.45004653930664, 66.3838119506836, 125.019287109375, 49.78087615966797, 27.685028076171875, 20.019182205200195, 23.033084869384766, 18.83477783203125, 18.256145477294922, 20.98274040222168, 17.108753204345703, 139.65829467773438, 23.186790466308594, 85.80548095703125, 24.049345016479492, 41.66240310668945, 19.05768394470215, 21.979923248291016, 35.397865295410156, 18.487403869628906, 19.61578941345215, 17.423542022705078, 11.989423751831055, 19.630979537963867, 148.7054443359375, 172.7938232421875, 154.80465698242188, 76.5463638305664, 63.618125915527344, 34.92621612548828, 292.295166015625, 70.54257202148438, 60.33562469482422, 108.8079833984375, 38.287742614746094, 149.33587646484375, 150.4820556640625, 45.2153205871582, 140.94606018066406, 102.45018005371094, 102.62249755859375, 108.22068786621094, 145.94515991210938, 83.5760726928711, 198.28123474121094, 174.3307647705078, 137.52249145507812, 135.3292999267578, 282.05096435546875, 239.2017059326172, 221.99081420898438, 302.5062255859375, 289.0193176269531, 428.39801025390625, 349.8072814941406, 235.16854858398438, 360.0470275878906, 401.54217529296875, 297.54766845703125, 216.302001953125, 290.7873229980469, 262.832275390625, 218.6824951171875, 217.2979736328125, 223.46653747558594, 182.42575073242188, 191.12522888183594, 210.5901336669922, 181.8233642578125, 174.3782501220703, 175.468994140625, 168.56692504882812, 116.64421844482422, 500.6911926269531, 290.3443298339844, 127.1924819946289, 112.2130126953125, 140.3575439453125, 105.17008972167969, 444.5554504394531, 43.820831298828125, 70.55857849121094, 46.89240264892578, 37.03654479980469, 70.62757110595703, 39.85595703125, 86.37178802490234, 35.12409591674805, 32.45698547363281, 41.277042388916016, 36.49554443359375, 31.100204467773438, 82.53514862060547, 30.475908279418945, 87.67514038085938, 30.822458267211914, 32.951961517333984, 26.384191513061523, 25.91188621520996, 26.50584602355957, 30.269371032714844, 32.39940643310547, 310.1651306152344, 482.8280334472656, 172.7497100830078, 311.0912780761719, 77.7706527709961, 48.646080017089844, 55.67396545410156, 64.06195068359375, 88.68587493896484, 67.05209350585938, 90.16973114013672, 130.49781799316406, 233.80975341796875, 134.4639129638672, 59.57160186767578, 290.38995361328125, 165.41700744628906, 81.34835815429688, 522.7039184570312, 676.7725219726562, 335.3993225097656, 330.44476318359375, 417.4178771972656, 421.72430419921875, 269.23016357421875, 395.01666259765625, 296.4920959472656, 306.5965881347656, 271.10540771484375, 168.72384643554688, 216.76393127441406, 174.84597778320312, 167.46571350097656, 156.76455688476562, 166.89492797851562, 152.16358947753906, 148.54449462890625, 141.0573272705078], \"Total\": [504.0, 501.0, 450.0, 407.0, 292.0, 320.0, 331.0, 614.0, 243.0, 606.0, 358.0, 180.0, 631.0, 287.0, 184.0, 141.0, 151.0, 158.0, 216.0, 128.0, 1154.0, 192.0, 457.0, 145.0, 117.0, 422.0, 113.0, 171.0, 236.0, 129.0, 184.31375122070312, 86.1834945678711, 43.85700225830078, 42.79935836791992, 70.69843292236328, 34.556396484375, 76.0698013305664, 23.150461196899414, 42.3950080871582, 30.17913818359375, 18.834075927734375, 46.16945266723633, 77.65811920166016, 20.187589645385742, 15.074573516845703, 43.6736946105957, 24.302894592285156, 14.602651596069336, 20.82550621032715, 17.39206886291504, 13.549065589904785, 17.446693420410156, 30.37125587463379, 49.32037353515625, 98.2874984741211, 39.42285919189453, 41.207645416259766, 77.4559326171875, 18.82921028137207, 12.27554988861084, 216.0447235107422, 88.32599639892578, 46.88573455810547, 85.21456909179688, 45.96375274658203, 63.330970764160156, 95.73542022705078, 197.50148010253906, 83.60457611083984, 189.65106201171875, 236.2859344482422, 184.7637481689453, 52.254417419433594, 70.54259490966797, 76.19332122802734, 614.76708984375, 606.9917602539062, 881.91845703125, 116.82498168945312, 386.2828674316406, 798.154541015625, 138.88735961914062, 474.22003173828125, 420.7268371582031, 558.9876708984375, 539.8635864257812, 631.0216064453125, 1050.503662109375, 975.606201171875, 1693.443359375, 340.6648254394531, 173.37107849121094, 1186.09716796875, 496.4681701660156, 972.166748046875, 244.97628784179688, 1112.0673828125, 673.5863037109375, 978.8005981445312, 253.25596618652344, 399.45404052734375, 405.2342834472656, 703.0813598632812, 662.8753051757812, 587.4432373046875, 544.3540649414062, 494.023681640625, 533.6033935546875, 444.53936767578125, 1154.70263671875, 407.0144958496094, 151.18191528320312, 243.65286254882812, 129.1363067626953, 63.90463638305664, 158.1288299560547, 46.52310562133789, 32.31752395629883, 68.24819946289062, 128.6678466796875, 51.34376907348633, 28.56369972229004, 20.675304412841797, 23.799148559570312, 19.470497131347656, 18.895309448242188, 21.76753807067871, 17.798267364501953, 145.32318115234375, 24.176774978637695, 89.58709716796875, 25.114662170410156, 43.567142486572266, 19.93301773071289, 23.01691436767578, 37.12205123901367, 19.413700103759766, 20.61475944519043, 18.318689346313477, 12.622779846191406, 20.66848373413086, 162.07652282714844, 192.5009765625, 171.9935760498047, 83.57527160644531, 70.44386291503906, 37.478153228759766, 358.9100341796875, 79.86132049560547, 67.6747817993164, 130.01351928710938, 41.941184997558594, 187.28616333007812, 191.80003356933594, 50.45061111450195, 183.57589721679688, 133.24066162109375, 134.9220733642578, 144.34243774414062, 207.471435546875, 105.81887817382812, 326.6885986328125, 287.70904541015625, 210.49520874023438, 208.15139770507812, 587.4432373046875, 465.9527587890625, 422.3602600097656, 662.8753051757812, 631.0216064453125, 1154.70263671875, 978.8005981445312, 521.7474365234375, 1186.09716796875, 1693.443359375, 972.166748046875, 535.3094482421875, 1112.0673828125, 1050.503662109375, 673.5863037109375, 703.0813598632812, 798.154541015625, 417.40509033203125, 533.6033935546875, 881.91845703125, 481.87030029296875, 544.3540649414062, 616.68994140625, 425.684814453125, 117.56049346923828, 504.86407470703125, 292.7828063964844, 128.31997680664062, 113.26443481445312, 141.82513427734375, 106.36427307128906, 450.6159362792969, 44.476806640625, 71.6395034790039, 47.644256591796875, 37.73038101196289, 71.96115112304688, 40.63408660888672, 88.07254791259766, 35.8426399230957, 33.14939498901367, 42.159122467041016, 37.27851104736328, 31.78657341003418, 84.36968231201172, 31.173904418945312, 89.78616333007812, 31.57765007019043, 33.76416778564453, 27.046850204467773, 26.592817306518555, 27.206111907958984, 31.07168960571289, 33.25985336303711, 320.52203369140625, 501.22271728515625, 180.4707794189453, 331.59942626953125, 80.64324951171875, 50.420387268066406, 57.94657516479492, 67.02566528320312, 95.52318572998047, 71.18955993652344, 97.87323760986328, 146.81613159179688, 287.31524658203125, 161.42318725585938, 64.56509399414062, 457.4363098144531, 231.833251953125, 96.81334686279297, 1154.70263671875, 1693.443359375, 694.106689453125, 681.0068359375, 975.606201171875, 1112.0673828125, 616.68994140625, 1186.09716796875, 972.166748046875, 1050.503662109375, 978.8005981445312, 366.6172180175781, 703.0813598632812, 521.7474365234375, 465.2032470703125, 457.2276916503906, 673.5863037109375, 481.87030029296875, 544.3540649414062, 535.3094482421875], \"Category\": [\"Default\", \"Default\", \"Default\", \"Default\", \"Default\", \"Default\", \"Default\", \"Default\", \"Default\", \"Default\", \"Default\", \"Default\", \"Default\", \"Default\", \"Default\", \"Default\", \"Default\", \"Default\", \"Default\", \"Default\", \"Default\", \"Default\", \"Default\", \"Default\", \"Default\", \"Default\", \"Default\", \"Default\", \"Default\", \"Default\", \"Topic1\", \"Topic1\", \"Topic1\", \"Topic1\", \"Topic1\", \"Topic1\", \"Topic1\", \"Topic1\", \"Topic1\", \"Topic1\", \"Topic1\", \"Topic1\", \"Topic1\", \"Topic1\", \"Topic1\", \"Topic1\", \"Topic1\", \"Topic1\", \"Topic1\", \"Topic1\", \"Topic1\", \"Topic1\", \"Topic1\", \"Topic1\", \"Topic1\", \"Topic1\", \"Topic1\", \"Topic1\", \"Topic1\", \"Topic1\", \"Topic1\", \"Topic1\", \"Topic1\", \"Topic1\", \"Topic1\", \"Topic1\", \"Topic1\", \"Topic1\", \"Topic1\", \"Topic1\", \"Topic1\", \"Topic1\", \"Topic1\", \"Topic1\", \"Topic1\", \"Topic1\", \"Topic1\", \"Topic1\", \"Topic1\", \"Topic1\", \"Topic1\", \"Topic1\", \"Topic1\", \"Topic1\", \"Topic1\", \"Topic1\", \"Topic1\", \"Topic1\", \"Topic1\", \"Topic1\", \"Topic1\", \"Topic1\", \"Topic1\", \"Topic1\", \"Topic1\", \"Topic1\", \"Topic1\", \"Topic1\", \"Topic1\", \"Topic1\", \"Topic1\", \"Topic1\", \"Topic1\", \"Topic1\", \"Topic1\", \"Topic1\", \"Topic1\", \"Topic1\", \"Topic1\", \"Topic1\", \"Topic2\", \"Topic2\", \"Topic2\", \"Topic2\", \"Topic2\", \"Topic2\", \"Topic2\", \"Topic2\", \"Topic2\", \"Topic2\", \"Topic2\", \"Topic2\", \"Topic2\", \"Topic2\", \"Topic2\", \"Topic2\", \"Topic2\", \"Topic2\", \"Topic2\", \"Topic2\", \"Topic2\", \"Topic2\", \"Topic2\", \"Topic2\", \"Topic2\", \"Topic2\", \"Topic2\", \"Topic2\", \"Topic2\", \"Topic2\", \"Topic2\", \"Topic2\", \"Topic2\", \"Topic2\", \"Topic2\", \"Topic2\", \"Topic2\", \"Topic2\", \"Topic2\", \"Topic2\", \"Topic2\", \"Topic2\", \"Topic2\", \"Topic2\", \"Topic2\", \"Topic2\", \"Topic2\", \"Topic2\", \"Topic2\", \"Topic2\", \"Topic2\", \"Topic2\", \"Topic2\", \"Topic2\", \"Topic2\", \"Topic2\", \"Topic2\", \"Topic2\", \"Topic2\", \"Topic2\", \"Topic2\", \"Topic2\", \"Topic2\", \"Topic2\", \"Topic2\", \"Topic2\", \"Topic2\", \"Topic2\", \"Topic2\", \"Topic2\", \"Topic2\", \"Topic2\", \"Topic2\", \"Topic2\", \"Topic2\", \"Topic2\", \"Topic2\", \"Topic2\", \"Topic2\", \"Topic3\", \"Topic3\", \"Topic3\", \"Topic3\", \"Topic3\", \"Topic3\", \"Topic3\", \"Topic3\", \"Topic3\", \"Topic3\", \"Topic3\", \"Topic3\", \"Topic3\", \"Topic3\", \"Topic3\", \"Topic3\", \"Topic3\", \"Topic3\", \"Topic3\", \"Topic3\", \"Topic3\", \"Topic3\", \"Topic3\", \"Topic3\", \"Topic3\", \"Topic3\", \"Topic3\", \"Topic3\", \"Topic3\", \"Topic3\", \"Topic3\", \"Topic3\", \"Topic3\", \"Topic3\", \"Topic3\", \"Topic3\", \"Topic3\", \"Topic3\", \"Topic3\", \"Topic3\", \"Topic3\", \"Topic3\", \"Topic3\", \"Topic3\", \"Topic3\", \"Topic3\", \"Topic3\", \"Topic3\", \"Topic3\", \"Topic3\", \"Topic3\", \"Topic3\", \"Topic3\", \"Topic3\", \"Topic3\", \"Topic3\", \"Topic3\", \"Topic3\", \"Topic3\", \"Topic3\", \"Topic3\", \"Topic3\", \"Topic3\", \"Topic3\", \"Topic3\", \"Topic3\", \"Topic3\", \"Topic3\"], \"logprob\": [30.0, 29.0, 28.0, 27.0, 26.0, 25.0, 24.0, 23.0, 22.0, 21.0, 20.0, 19.0, 18.0, 17.0, 16.0, 15.0, 14.0, 13.0, 12.0, 11.0, 10.0, 9.0, 8.0, 7.0, 6.0, 5.0, 4.0, 3.0, 2.0, 1.0, -5.651000022888184, -6.4166998863220215, -7.097099781036377, -7.128799915313721, -6.628399848937988, -7.346799850463867, -6.560699939727783, -7.751500129699707, -7.14739990234375, -7.48859977722168, -7.9604997634887695, -7.066400051116943, -6.548399925231934, -7.896200180053711, -8.18850040435791, -7.126200199127197, -7.713099956512451, -8.223199844360352, -7.86870002746582, -8.050999641418457, -8.30150032043457, -8.049400329589844, -7.496300220489502, -7.012499809265137, -6.3231000900268555, -7.237100124359131, -7.193600177764893, -6.563700199127197, -7.978300094604492, -8.406900405883789, -5.549099922180176, -6.435100078582764, -7.069300174713135, -6.482999801635742, -7.092199802398682, -6.779799938201904, -6.375400066375732, -5.671500205993652, -6.5100998878479, -5.720300197601318, -5.521299839019775, -5.762199878692627, -6.974800109863281, -6.689799785614014, -6.6234002113342285, -4.702600002288818, -4.753900051116943, -4.518799781799316, -6.2778000831604, -5.281599998474121, -4.729000091552734, -6.171299934387207, -5.190000057220459, -5.299200057983398, -5.0817999839782715, -5.11359977722168, -5.05210018157959, -4.682600021362305, -4.77370023727417, -4.436800003051758, -5.56220006942749, -6.02810001373291, -4.792399883270264, -5.35230016708374, -4.923399925231934, -5.811399936676025, -4.868299961090088, -5.1956000328063965, -4.978400230407715, -5.803100109100342, -5.553599834442139, -5.547100067138672, -5.263800144195557, -5.30210018157959, -5.406799793243408, -5.458499908447266, -5.493199825286865, -5.51669979095459, -5.545400142669678, -5.542399883270264, -4.753799915313721, -5.7480998039245605, -5.27209997177124, -5.917500019073486, -6.622000217437744, -5.718800067901611, -6.942699909210205, -7.3084001541137695, -6.561399936676025, -5.928400039672852, -6.8491997718811035, -7.4359002113342285, -7.7600998878479, -7.619900226593018, -7.821100234985352, -7.85230016708374, -7.713099956512451, -7.917200088500977, -5.817599773406982, -7.6132001876831055, -6.304699897766113, -7.576700210571289, -7.027200222015381, -7.8094000816345215, -7.6666998863220215, -7.190199851989746, -7.839700222015381, -7.7804999351501465, -7.89900016784668, -8.27280044555664, -7.779699802398682, -5.754899978637695, -5.604700088500977, -5.714700222015381, -6.418900012969971, -6.603899955749512, -7.20359992980957, -5.079100131988525, -6.5005998611450195, -6.656899929046631, -6.067200183868408, -7.111700057983398, -5.7505998611450195, -5.743000030517578, -6.945400238037109, -5.8084001541137695, -6.127399921417236, -6.125800132751465, -6.072700023651123, -5.773600101470947, -6.331099987030029, -5.467100143432617, -5.595900058746338, -5.833000183105469, -5.849100112915039, -5.114699840545654, -5.2795000076293945, -5.3541998863220215, -5.0447001457214355, -5.0903000831604, -4.696800231933594, -4.899400234222412, -5.296500205993652, -4.87060022354126, -4.761499881744385, -5.061200141906738, -5.380099773406982, -5.084199905395508, -5.185299873352051, -5.369200229644775, -5.3755998611450195, -5.347599983215332, -5.55049991607666, -5.503900051116943, -5.406899929046631, -5.553800106048584, -5.595600128173828, -5.589399814605713, -5.629499912261963, -5.907100200653076, -4.450300216674805, -4.995200157165527, -5.8206000328063965, -5.945899963378906, -5.722099781036377, -6.010700225830078, -4.569200038909912, -6.886199951171875, -6.409800052642822, -6.818399906158447, -7.0543999671936035, -6.40880012512207, -6.980999946594238, -6.207600116729736, -7.107399940490723, -7.186299800872803, -6.946000099182129, -7.0690999031066895, -7.229000091552734, -6.252999782562256, -7.249300003051758, -6.192599773406982, -7.23799991607666, -7.171199798583984, -7.393499851226807, -7.411600112915039, -7.388899803161621, -7.256100177764893, -7.1880998611450195, -4.929200172424316, -4.486599922180176, -5.514400005340576, -4.926199913024902, -6.3125, -6.781700134277344, -6.646699905395508, -6.506400108337402, -6.18120002746582, -6.4608001708984375, -6.164599895477295, -5.794899940490723, -5.2118000984191895, -5.764999866485596, -6.579100131988525, -4.994999885559082, -5.557799816131592, -6.267499923706055, -4.407199859619141, -4.148900032043457, -4.850900173187256, -4.865799903869629, -4.632199764251709, -4.6219000816345215, -5.070700168609619, -4.687300205230713, -4.9741997718811035, -4.940700054168701, -5.063799858093262, -5.538000106811523, -5.287499904632568, -5.502399921417236, -5.545499801635742, -5.611499786376953, -5.548900127410889, -5.641300201416016, -5.66540002822876, -5.717100143432617], \"loglift\": [30.0, 29.0, 28.0, 27.0, 26.0, 25.0, 24.0, 23.0, 22.0, 21.0, 20.0, 19.0, 18.0, 17.0, 16.0, 15.0, 14.0, 13.0, 12.0, 11.0, 10.0, 9.0, 8.0, 7.0, 6.0, 5.0, 4.0, 3.0, 2.0, 1.0, 0.9945999979972839, 0.9890999794006348, 0.9842000007629395, 0.9768999814987183, 0.9753999710083008, 0.9728999733924866, 0.9699000120162964, 0.9688000082969666, 0.9678000211715698, 0.9664999842643738, 0.9660999774932861, 0.9635999798774719, 0.9616000056266785, 0.9609000086784363, 0.9607999920845032, 0.9592999815940857, 0.9585999846458435, 0.9577999711036682, 0.9574000239372253, 0.955299973487854, 0.9545000195503235, 0.9537000060081482, 0.9524999856948853, 0.9513999819755554, 0.9513000249862671, 0.9508000016212463, 0.949999988079071, 0.9488000273704529, 0.9484999775886536, 0.9477999806404114, 0.9376999735832214, 0.9462000131607056, 0.9452999830245972, 0.9340999722480774, 0.9422000050544739, 0.9340999722480774, 0.9253000020980835, 0.9049999713897705, 0.9259999990463257, 0.8967000246047974, 0.8758999705314636, 0.8809999823570251, 0.9312999844551086, 0.9161999821662903, 0.9054999947547913, 0.7383999824523926, 0.6998000144958496, 0.5613999962806702, 0.8238000273704529, 0.6241000294685364, 0.45089998841285706, 0.7573000192642212, 0.5105999708175659, 0.5210999846458435, 0.4544000029563904, 0.45739999413490295, 0.3628000020980835, 0.22269999980926514, 0.20550000667572021, -0.008999999612569809, 0.4691999852657318, 0.6787999868392944, -0.00860000029206276, 0.30239999294281006, 0.05939999967813492, 0.5497000217437744, -0.019999999552965164, 0.15399999916553497, -0.002400000113993883, 0.5248000025749207, 0.31859999895095825, 0.310699999332428, 0.0430000014603138, 0.06360000371932983, 0.07970000058412552, 0.10419999808073044, 0.1665000021457672, 0.06589999794960022, 0.2198999971151352, -0.7318000197410583, 1.0996999740600586, 1.0957000255584717, 1.0944000482559204, 1.083899974822998, 1.082900047302246, 1.0800000429153442, 1.0795999765396118, 1.0781999826431274, 1.0777000188827515, 1.07669997215271, 1.0744999647140503, 1.0742000341415405, 1.073199987411499, 1.072700023651123, 1.0721999406814575, 1.0709999799728394, 1.0686999559402466, 1.0658999681472778, 1.0657000541687012, 1.063599944114685, 1.0622999668121338, 1.0621000528335571, 1.0607000589370728, 1.0605000257492065, 1.0592999458312988, 1.0578999519348145, 1.0565999746322632, 1.055799961090088, 1.055299997329712, 1.0540000200271606, 1.0539000034332275, 1.0192999839782715, 0.9973999857902527, 1.000100016593933, 1.0176000595092773, 1.003499984741211, 1.0348999500274658, 0.9000999927520752, 0.9814000129699707, 0.9907000064849854, 0.9273999929428101, 1.014299988746643, 0.8790000081062317, 0.8628000020980835, 0.9958999752998352, 0.8411999940872192, 0.8427000045776367, 0.8317999839782715, 0.8173999786376953, 0.7537000179290771, 0.8694999814033508, 0.6061000227928162, 0.6043999791145325, 0.6797999739646912, 0.6748999953269958, 0.3716999888420105, 0.43869999051094055, 0.46219998598098755, 0.32100000977516174, 0.3246000111103058, 0.11389999836683273, 0.07649999856948853, 0.3086000084877014, -0.08669999986886978, -0.33379998803138733, -0.07850000262260437, 0.19930000603199005, -0.23589999973773956, -0.2800999879837036, -0.019600000232458115, -0.06880000233650208, -0.16760000586509705, 0.2777000069618225, 0.0786999985575676, -0.32670000195503235, 0.13079999387264252, -0.03290000185370445, -0.15150000154972076, 0.17910000681877136, 1.1881999969482422, 1.1877000331878662, 1.187600016593933, 1.1871999502182007, 1.1866999864578247, 1.1856000423431396, 1.1847000122070312, 1.1825000047683716, 1.1811000108718872, 1.180799961090088, 1.1800999641418457, 1.17739999294281, 1.177299976348877, 1.1766999959945679, 1.1764999628067017, 1.1757999658584595, 1.1749000549316406, 1.1749000549316406, 1.1748000383377075, 1.1742000579833984, 1.1740000247955322, 1.1734000444412231, 1.1721999645233154, 1.1718000173568726, 1.1717000007629395, 1.1712000370025635, 1.1700999736785889, 1.1698999404907227, 1.169800043106079, 1.169800043106079, 1.1632000207901, 1.1585999727249146, 1.1523000001907349, 1.132200002670288, 1.1597000360488892, 1.1601999998092651, 1.156000018119812, 1.1507999897003174, 1.1217000484466553, 1.1361000537872314, 1.1139999628067017, 1.0781999826431274, 0.9898999929428101, 1.0132999420166016, 1.1154999732971191, 0.741599977016449, 0.8585000038146973, 1.0219999551773071, 0.4034000039100647, 0.27880001068115234, 0.46869999170303345, 0.47290000319480896, 0.34700000286102295, 0.2264000028371811, 0.36719998717308044, 0.09650000184774399, 0.008500000461935997, -0.03550000116229057, -0.08780000358819962, 0.41990000009536743, 0.019300000742077827, 0.10270000249147415, 0.17430000007152557, 0.12559999525547028, -0.19920000433921814, 0.043299999088048935, -0.10270000249147415, -0.13770000636577606]}, \"token.table\": {\"Topic\": [1, 2, 3, 1, 2, 3, 1, 2, 3, 1, 2, 3, 1, 2, 3, 1, 2, 3, 1, 2, 3, 1, 2, 3, 1, 2, 3, 1, 2, 3, 1, 2, 3, 1, 2, 3, 1, 2, 1, 2, 1, 2, 3, 3, 1, 2, 3, 1, 2, 3, 1, 1, 2, 3, 1, 2, 3, 1, 2, 3, 1, 1, 2, 3, 1, 2, 1, 2, 3, 1, 2, 3, 1, 2, 3, 3, 1, 1, 2, 3, 1, 1, 3, 1, 2, 3, 1, 3, 1, 2, 3, 1, 1, 2, 3, 1, 2, 3, 1, 2, 2, 2, 1, 2, 3, 1, 2, 1, 2, 3, 1, 2, 3, 1, 2, 3, 3, 1, 2, 3, 1, 2, 3, 1, 2, 3, 1, 2, 3, 1, 2, 3, 1, 2, 3, 1, 2, 3, 1, 2, 3, 1, 2, 3, 1, 1, 2, 3, 1, 2, 3, 3, 3, 1, 2, 3, 1, 2, 3, 1, 2, 3, 1, 2, 3, 1, 2, 3, 1, 2, 3, 1, 2, 3, 1, 2, 3, 1, 2, 3, 1, 2, 1, 2, 3, 1, 2, 3, 3, 1, 2, 3, 1, 2, 3, 1, 2, 3, 1, 2, 3, 2, 1, 2, 3, 1, 2, 3, 2, 1, 2, 3, 1, 2, 3, 1, 2, 3, 1, 2, 3, 1, 2, 3, 1, 2, 3, 1, 2, 3, 3, 1, 3, 1, 3, 3, 1, 2, 3, 1, 2, 3, 1, 2, 3, 3, 1, 2, 3, 1, 2, 3, 1, 2, 1, 2, 3, 1, 2, 3, 1, 2, 3, 1, 2, 3, 1, 2, 1, 2, 3, 1, 2, 3, 1, 2, 3, 1, 2, 3, 1, 2, 3, 1, 2, 3, 3, 1, 2, 3, 1, 2, 3, 1, 2, 2, 1, 2, 3, 1, 2, 3, 1, 2, 3, 1, 2, 3, 1, 2, 3, 3, 1, 2, 3, 2, 3, 1, 2, 3, 1, 2, 3, 1, 1, 2, 1, 2, 3, 1, 2, 3, 1, 2, 3, 1, 2, 3, 1, 2, 3, 1, 2, 3, 1, 2, 3, 2, 1, 2, 3, 1, 3, 1, 2, 3, 1, 2, 1, 2, 3, 1, 2, 3, 1, 2, 1, 2, 3, 1, 3, 1, 2, 1, 2, 3, 2, 3, 1, 2, 3, 1, 2, 3, 1, 3, 2, 1, 1, 2, 3, 3, 1, 2, 3, 1, 2, 1, 2, 3, 1, 2, 3, 1, 2, 1, 2, 3, 1, 2, 3, 1, 2, 3, 3, 1, 2, 3, 1, 2, 3, 1, 2, 1, 1, 2, 3, 1, 2, 3, 1, 2, 3, 1, 2, 3, 1, 2, 1, 2, 3, 1, 3, 1, 2, 3, 1, 2, 3, 1, 2, 3, 1, 3, 3, 3, 1, 3, 1, 2, 3, 1, 2, 3, 1, 2, 3, 1, 2, 3, 1, 2, 3, 1, 2, 3, 1, 2, 3, 1, 2, 3, 1, 2, 3, 1, 2, 3, 1, 2, 3], \"Freq\": [0.011137573979794979, 0.011137573979794979, 0.9801064729690552, 0.011162322014570236, 0.9599596858024597, 0.022324644029140472, 0.17205418646335602, 0.7820644974708557, 0.04692387208342552, 0.42165273427963257, 0.43602725863456726, 0.14134949445724487, 0.07097850739955902, 0.9085248708724976, 0.02839140221476555, 0.9462037682533264, 0.04069693386554718, 0.010174233466386795, 0.2834475338459015, 0.6485663652420044, 0.06725873798131943, 0.7380660176277161, 0.24053044617176056, 0.02141709439456463, 0.6115304827690125, 0.20454639196395874, 0.18345914781093597, 0.018971871584653854, 0.9738894701004028, 0.006323957350105047, 0.15760953724384308, 0.7655320763587952, 0.0750521644949913, 0.013896387070417404, 0.013896387070417404, 0.9866434931755066, 0.9397006630897522, 0.04528678208589554, 0.9609286785125732, 0.03313547372817993, 0.06470167636871338, 0.219985693693161, 0.7117184400558472, 0.981706976890564, 0.008208399638533592, 0.989112138748169, 0.004104199819266796, 0.9727907776832581, 0.013145821169018745, 0.013145821169018745, 0.9774570465087891, 0.7677704691886902, 0.22772851586341858, 0.0065065291710197926, 0.9316136837005615, 0.04737018793821335, 0.0157900620251894, 0.952953040599823, 0.04055119305849075, 0.020275596529245377, 0.9287161827087402, 0.01662318967282772, 0.027705315500497818, 0.9586039185523987, 0.9838988780975342, 0.028938202187418938, 0.019833246245980263, 0.019833246245980263, 0.9718291163444519, 0.07433876395225525, 0.09292345494031906, 0.8301162123680115, 0.9349915981292725, 0.027772027999162674, 0.03702937066555023, 0.9773675203323364, 0.9804591536521912, 0.04646473377943039, 0.030976491048932076, 0.9292947053909302, 0.9594757556915283, 0.9670950174331665, 0.023587683215737343, 0.6179781556129456, 0.28284385800361633, 0.09982724487781525, 0.9463893175125122, 0.04114736244082451, 0.014652401208877563, 0.9670584797859192, 0.014652401208877563, 0.9557145237922668, 0.33251795172691345, 0.4035049378871918, 0.26339906454086304, 0.4275621473789215, 0.3251253664493561, 0.24792665243148804, 0.9813231229782104, 0.02336483635008335, 0.9551491737365723, 0.9647393226623535, 0.08865931630134583, 0.8865931630134583, 0.014776553027331829, 0.05151001736521721, 0.927180290222168, 0.9063223004341125, 0.0556957833468914, 0.0354427732527256, 0.01548751164227724, 0.9757131934165955, 0.00774375582113862, 0.08721256256103516, 0.9011964201927185, 0.011628340929746628, 0.9806420803070068, 0.8388617038726807, 0.14551682770252228, 0.025679439306259155, 0.6367963552474976, 0.21226544678211212, 0.15511704981327057, 0.6429165601730347, 0.23925115168094635, 0.11905862390995026, 0.014919658191502094, 0.02983931638300419, 0.954858124256134, 0.5870873332023621, 0.2876727879047394, 0.12622377276420593, 0.004913829732686281, 0.9950505495071411, 0.0024569148663431406, 0.011354275979101658, 0.011354275979101658, 0.9764677286148071, 0.13075563311576843, 0.8383743762969971, 0.03076603077352047, 0.4955000579357147, 0.23566465079784393, 0.2678923010826111, 0.9775529503822327, 0.07179156690835953, 0.921325147151947, 0.011965261772274971, 0.921002209186554, 0.04784427210688591, 0.023922136053442955, 0.961294949054718, 0.9623433351516724, 0.18687979876995087, 0.7955740094184875, 0.01601826772093773, 0.36316537857055664, 0.23738615214824677, 0.3997771739959717, 0.4499766528606415, 0.12197544425725937, 0.4274265468120575, 0.9928721785545349, 0.005425530951470137, 0.005425530951470137, 0.02194633148610592, 0.015960969030857086, 0.963643491268158, 0.22862298786640167, 0.748220682144165, 0.020783908665180206, 0.09296239167451859, 0.06197492778301239, 0.8366615176200867, 0.1704687774181366, 0.7634036540985107, 0.06670517474412918, 0.05552932620048523, 0.9193188548088074, 0.024679699912667274, 0.030942965298891068, 0.9592319130897522, 0.02149469591677189, 0.9672613143920898, 0.02149469591677189, 0.9377197623252869, 0.05741141363978386, 0.01913713850080967, 0.9655091166496277, 0.030651893466711044, 0.051086489111185074, 0.9195567965507507, 0.35969042778015137, 0.26167479157447815, 0.37947341799736023, 0.3966340720653534, 0.4800463914871216, 0.12256503105163574, 0.015648316591978073, 0.9701956510543823, 0.015648316591978073, 0.9506622552871704, 0.6199261546134949, 0.24086302518844604, 0.1421486735343933, 0.7209968566894531, 0.2480229139328003, 0.028839873149991035, 0.9664211273193359, 0.17666886746883392, 0.37065818905830383, 0.4529304504394531, 0.38882219791412354, 0.30653178691864014, 0.30447450280189514, 0.503186821937561, 0.22530752420425415, 0.2703690230846405, 0.21466325223445892, 0.45040950179100037, 0.33541133999824524, 0.01725727505981922, 0.01725727505981922, 0.9664074182510376, 0.5778302550315857, 0.24150800704956055, 0.18068377673625946, 0.4578756093978882, 0.25035610795021057, 0.29224076867103577, 0.9924240708351135, 0.9464263319969177, 0.048534683883190155, 0.008506258949637413, 0.9952322840690613, 0.986477792263031, 0.9296454787254333, 0.06267272680997849, 0.010445455089211464, 0.7848086357116699, 0.14400158822536469, 0.07200079411268234, 0.9759763479232788, 0.014144585467875004, 0.014144585467875004, 0.9621208906173706, 0.011852598749101162, 0.011852598749101162, 0.983765721321106, 0.6834369897842407, 0.18898068368434906, 0.12685005366802216, 0.9530110955238342, 0.02165934257209301, 0.14766931533813477, 0.8135743737220764, 0.03622077777981758, 0.042141009122133255, 0.014047003351151943, 0.9411492347717285, 0.3826015293598175, 0.30864137411117554, 0.30864137411117554, 0.05234331265091896, 0.020937325432896614, 0.931710958480835, 0.03981737792491913, 0.9556170701980591, 0.2838180363178253, 0.23339352011680603, 0.4826347231864929, 0.9214290976524353, 0.05670332908630371, 0.014175832271575928, 0.1854795664548874, 0.35459327697753906, 0.46097126603126526, 0.8963830471038818, 0.09491115063428879, 0.010545683093369007, 0.012400293722748756, 0.012400293722748756, 0.9672229290008545, 0.9355197548866272, 0.02175627462565899, 0.04351254925131798, 0.9752545356750488, 0.04768582433462143, 0.9060306549072266, 0.023842912167310715, 0.0034155012108385563, 0.0034155012108385563, 0.9904953241348267, 0.0350094698369503, 0.980265200138092, 0.9673376083374023, 0.01247964147478342, 0.018719462677836418, 0.9671722054481506, 0.9528945684432983, 0.02575390785932541, 0.012876953929662704, 0.38233068585395813, 0.6047776341438293, 0.010427201166749, 0.22957642376422882, 0.6060817837715149, 0.16223400831222534, 0.048250988125801086, 0.01507843378931284, 0.9378786087036133, 0.9657037854194641, 0.01947656087577343, 0.9738280177116394, 0.01947656087577343, 0.9558188319206238, 0.04344630986452103, 0.026682211086153984, 0.9338774085044861, 0.026682211086153984, 0.027244962751865387, 0.08173488825559616, 0.8854612708091736, 0.9743966460227966, 0.9603608250617981, 0.048018041998147964, 0.2492150217294693, 0.1158631220459938, 0.6339680552482605, 0.4566524624824524, 0.3531745672225952, 0.19120916724205017, 0.3907220661640167, 0.4570995569229126, 0.1523665189743042, 0.8822076916694641, 0.1082463413476944, 0.005412317346781492, 0.11485641449689865, 0.07309044897556305, 0.8144364356994629, 0.10017365217208862, 0.8890411257743835, 0.012521706521511078, 0.2789084017276764, 0.2837730646133423, 0.43619975447654724, 0.9531923532485962, 0.5009447932243347, 0.18754583597183228, 0.3109312355518341, 0.008828897029161453, 0.988836407661438, 0.022953078150749207, 0.9640292525291443, 0.022953078150749207, 0.041362009942531586, 0.9513262510299683, 0.9385417699813843, 0.02536599338054657, 0.02536599338054657, 0.8802893757820129, 0.08464320749044418, 0.033857282251119614, 0.006614547688513994, 0.9921821355819702, 0.23607543110847473, 0.5129275321960449, 0.24895226955413818, 0.9411723017692566, 0.9653268456459045, 0.054589059203863144, 0.9280139803886414, 0.9616773128509521, 0.022897077724337578, 0.022897077724337578, 0.975835382938385, 0.9892796277999878, 0.4331776201725006, 0.32387110590934753, 0.24290333688259125, 0.9270715117454529, 0.011735082603991032, 0.058675412088632584, 0.9424713850021362, 0.051642268896102905, 0.952617347240448, 0.9587299823760986, 0.005942193325608969, 0.003961462527513504, 0.9923462867736816, 0.9843952059745789, 0.190656840801239, 0.7680746912956238, 0.04357870668172836, 0.9548501968383789, 0.03292587026953697, 0.03440607339143753, 0.9633700251579285, 0.006881214678287506, 0.026938166469335556, 0.942835807800293, 0.026938166469335556, 0.9559614658355713, 0.05310897156596184, 0.3826284408569336, 0.2579517662525177, 0.3589828908443451, 0.23278439044952393, 0.6555968523025513, 0.11401684582233429, 0.00887673906981945, 0.004438369534909725, 0.9875372052192688, 0.9725059866905212, 0.9055911898612976, 0.05249803885817528, 0.039373528212308884, 0.5797761082649231, 0.2945188581943512, 0.12595774233341217, 0.048508934676647186, 0.9701786637306213, 0.9503050446510315, 0.307136595249176, 0.3776949942111969, 0.31543758511543274, 0.4059857726097107, 0.31964489817619324, 0.2737188935279846, 0.32653266191482544, 0.3970073461532593, 0.2772004008293152, 0.5750765800476074, 0.2793945074081421, 0.14408236742019653, 0.9384517669677734, 0.042656898498535156, 0.04838284105062485, 0.9676568508148193, 0.04838284105062485, 0.007793019060045481, 0.9897133708000183, 0.5261309742927551, 0.4579874873161316, 0.01584731787443161, 0.1795520782470703, 0.7938092350959778, 0.028350329026579857, 0.007050936575978994, 0.007050936575978994, 0.9871311187744141, 0.009401652961969376, 0.9871735572814941, 0.9764905571937561, 0.9777076244354248, 0.013958779163658619, 0.9910733103752136, 0.3958640396595001, 0.26245129108428955, 0.34337377548217773, 0.08831124007701874, 0.8986967206001282, 0.015584336593747139, 0.4616911709308624, 0.5256176590919495, 0.011838234961032867, 0.9862677454948425, 0.011603149585425854, 0.011603149585425854, 0.2313571572303772, 0.7037113308906555, 0.06747917085886002, 0.2819354832172394, 0.2320094257593155, 0.48457664251327515, 0.36575376987457275, 0.3575804829597473, 0.2768694758415222, 0.07928546518087387, 0.8919614553451538, 0.019821366295218468, 0.023315848782658577, 0.971493661403656, 0.0077719492837786674, 0.363376647233963, 0.3035164475440979, 0.3330249786376953, 0.391676664352417, 0.35794374346733093, 0.2511228322982788], \"Term\": [\"acoustic\", \"acoustic\", \"acoustic\", \"apply\", \"apply\", \"apply\", \"area\", \"area\", \"area\", \"around\", \"around\", \"around\", \"attractive\", \"attractive\", \"attractive\", \"avent\", \"avent\", \"avent\", \"away\", \"away\", \"away\", \"baby\", \"baby\", \"baby\", \"back\", \"back\", \"back\", \"bait\", \"bait\", \"bait\", \"base\", \"base\", \"base\", \"bass\", \"bass\", \"bass\", \"bath\", \"bath\", \"bathe\", \"bathe\", \"battery\", \"battery\", \"battery\", \"behringer\", \"bird\", \"bird\", \"bird\", \"blade\", \"blade\", \"blade\", \"boppy\", \"bottle\", \"bottle\", \"bottle\", \"breast\", \"breast\", \"breast\", \"breastfeed\", \"breastfeed\", \"breastfeed\", \"burner\", \"cable\", \"cable\", \"cable\", \"cage\", \"cage\", \"capo\", \"capo\", \"capo\", \"case\", \"case\", \"case\", \"chair\", \"chair\", \"chair\", \"channel\", \"charcoal\", \"charge\", \"charge\", \"charge\", \"chimney\", \"chip\", \"chip\", \"clean\", \"clean\", \"clean\", \"clipper\", \"clipper\", \"cloth\", \"cloth\", \"cloth\", \"coal\", \"come\", \"come\", \"come\", \"conjurer\", \"conjurer\", \"conjurer\", \"cook\", \"cook\", \"copper\", \"cotton\", \"critter\", \"critter\", \"critter\", \"dandelion\", \"dandelion\", \"daughter\", \"daughter\", \"daughter\", \"deer\", \"deer\", \"deer\", \"diaper\", \"diaper\", \"diaper\", \"distortion\", \"door\", \"door\", \"door\", \"easily\", \"easily\", \"easily\", \"easy\", \"easy\", \"easy\", \"effect\", \"effect\", \"effect\", \"enough\", \"enough\", \"enough\", \"feeder\", \"feeder\", \"feeder\", \"fender\", \"fender\", \"fender\", \"fill\", \"fill\", \"fill\", \"find\", \"find\", \"find\", \"flame\", \"flower\", \"flower\", \"flower\", \"fold\", \"fold\", \"fold\", \"fuzz\", \"gain\", \"garden\", \"garden\", \"garden\", \"good\", \"good\", \"good\", \"great\", \"great\", \"great\", \"grill\", \"grill\", \"grill\", \"guitar\", \"guitar\", \"guitar\", \"hang\", \"hang\", \"hang\", \"hear\", \"hear\", \"hear\", \"hole\", \"hole\", \"hole\", \"hose\", \"hose\", \"hose\", \"hummer\", \"hummer\", \"hummingbird\", \"hummingbird\", \"hummingbird\", \"infant\", \"infant\", \"infant\", \"input\", \"instrument\", \"instrument\", \"instrument\", \"just\", \"just\", \"just\", \"keep\", \"keep\", \"keep\", \"killer\", \"killer\", \"killer\", \"lantern\", \"large\", \"large\", \"large\", \"leak\", \"leak\", \"leak\", \"lemon\", \"like\", \"like\", \"like\", \"little\", \"little\", \"little\", \"long\", \"long\", \"long\", \"look\", \"look\", \"look\", \"loud\", \"loud\", \"loud\", \"love\", \"love\", \"love\", \"make\", \"make\", \"make\", \"martin\", \"meat\", \"meat\", \"microphone\", \"microphone\", \"mics\", \"milk\", \"milk\", \"milk\", \"minute\", \"minute\", \"minute\", \"mirror\", \"mirror\", \"mirror\", \"mixer\", \"monitor\", \"monitor\", \"monitor\", \"month\", \"month\", \"month\", \"moth\", \"moth\", \"mouse\", \"mouse\", \"mouse\", \"mower\", \"mower\", \"mower\", \"much\", \"much\", \"much\", \"music\", \"music\", \"music\", \"nectar\", \"nectar\", \"need\", \"need\", \"need\", \"newborn\", \"newborn\", \"newborn\", \"nice\", \"nice\", \"nice\", \"nipple\", \"nipple\", \"nipple\", \"noise\", \"noise\", \"noise\", \"nurse\", \"nurse\", \"nurse\", \"overdrive\", \"pail\", \"pail\", \"pail\", \"pedal\", \"pedal\", \"pedal\", \"perch\", \"perch\", \"perkypet\", \"pick\", \"pick\", \"pick\", \"pillow\", \"pillow\", \"pillow\", \"plant\", \"plant\", \"plant\", \"plastic\", \"plastic\", \"plastic\", \"play\", \"play\", \"play\", \"player\", \"poison\", \"poison\", \"poison\", \"polish\", \"polish\", \"powder\", \"powder\", \"powder\", \"power\", \"power\", \"power\", \"pregnancy\", \"pregnant\", \"pregnant\", \"price\", \"price\", \"price\", \"problem\", \"problem\", \"problem\", \"product\", \"product\", \"product\", \"pump\", \"pump\", \"pump\", \"quality\", \"quality\", \"quality\", \"rain\", \"rain\", \"rain\", \"really\", \"really\", \"really\", \"reapply\", \"recommend\", \"recommend\", \"recommend\", \"record\", \"record\", \"refill\", \"refill\", \"refill\", \"repellent\", \"repellent\", \"scissor\", \"scissor\", \"scissor\", \"seat\", \"seat\", \"seat\", \"seed\", \"seed\", \"seem\", \"seem\", \"seem\", \"shear\", \"shure\", \"sleepsack\", \"sleepsack\", \"sling\", \"sling\", \"sling\", \"slug\", \"sm7b\", \"small\", \"small\", \"small\", \"smoke\", \"smoke\", \"smoke\", \"smoker\", \"smoker\", \"snail\", \"snoogle\", \"sound\", \"sound\", \"sound\", \"speaker\", \"spray\", \"spray\", \"spray\", \"sprinkler\", \"sprinkler\", \"squirrel\", \"squirrel\", \"squirrel\", \"station\", \"station\", \"station\", \"sterilizer\", \"sterilizer\", \"still\", \"still\", \"still\", \"strap\", \"strap\", \"strap\", \"string\", \"string\", \"string\", \"studio\", \"support\", \"support\", \"support\", \"take\", \"take\", \"take\", \"terro\", \"terro\", \"thermometer\", \"thing\", \"thing\", \"thing\", \"think\", \"think\", \"think\", \"three\", \"three\", \"three\", \"time\", \"time\", \"time\", \"tomato\", \"tomato\", \"tomcat\", \"tomcat\", \"tomcat\", \"tone\", \"tone\", \"trap\", \"trap\", \"trap\", \"tree\", \"tree\", \"tree\", \"tune\", \"tune\", \"tune\", \"tuner\", \"tuner\", \"vocal\", \"voice\", \"volume\", \"volume\", \"want\", \"want\", \"want\", \"warm\", \"warm\", \"warm\", \"water\", \"water\", \"water\", \"weber\", \"weber\", \"weber\", \"week\", \"week\", \"week\", \"well\", \"well\", \"well\", \"will\", \"will\", \"will\", \"window\", \"window\", \"window\", \"wipe\", \"wipe\", \"wipe\", \"work\", \"work\", \"work\", \"year\", \"year\", \"year\"]}, \"R\": 30, \"lambda.step\": 0.01, \"plot.opts\": {\"xlab\": \"PC1\", \"ylab\": \"PC2\"}, \"topic.order\": [1, 2, 3]};\n",
       "\n",
       "function LDAvis_load_lib(url, callback){\n",
       "  var s = document.createElement('script');\n",
       "  s.src = url;\n",
       "  s.async = true;\n",
       "  s.onreadystatechange = s.onload = callback;\n",
       "  s.onerror = function(){console.warn(\"failed to load library \" + url);};\n",
       "  document.getElementsByTagName(\"head\")[0].appendChild(s);\n",
       "}\n",
       "\n",
       "if(typeof(LDAvis) !== \"undefined\"){\n",
       "   // already loaded: just create the visualization\n",
       "   !function(LDAvis){\n",
       "       new LDAvis(\"#\" + \"ldavis_el46261404479378644007890459266\", ldavis_el46261404479378644007890459266_data);\n",
       "   }(LDAvis);\n",
       "}else if(typeof define === \"function\" && define.amd){\n",
       "   // require.js is available: use it to load d3/LDAvis\n",
       "   require.config({paths: {d3: \"https://cdnjs.cloudflare.com/ajax/libs/d3/3.5.5/d3.min\"}});\n",
       "   require([\"d3\"], function(d3){\n",
       "      window.d3 = d3;\n",
       "      LDAvis_load_lib(\"https://cdn.rawgit.com/bmabey/pyLDAvis/files/ldavis.v1.0.0.js\", function(){\n",
       "        new LDAvis(\"#\" + \"ldavis_el46261404479378644007890459266\", ldavis_el46261404479378644007890459266_data);\n",
       "      });\n",
       "    });\n",
       "}else{\n",
       "    // require.js not available: dynamically load d3 & LDAvis\n",
       "    LDAvis_load_lib(\"https://cdnjs.cloudflare.com/ajax/libs/d3/3.5.5/d3.min.js\", function(){\n",
       "         LDAvis_load_lib(\"https://cdn.rawgit.com/bmabey/pyLDAvis/files/ldavis.v1.0.0.js\", function(){\n",
       "                 new LDAvis(\"#\" + \"ldavis_el46261404479378644007890459266\", ldavis_el46261404479378644007890459266_data);\n",
       "            })\n",
       "         });\n",
       "}\n",
       "</script>"
      ],
      "text/plain": [
       "PreparedData(topic_coordinates=              x         y  topics  cluster       Freq\n",
       "topic                                                \n",
       "0     -0.049091  0.074542       1        1  36.653503\n",
       "1     -0.074242 -0.065053       2        1  33.106480\n",
       "2      0.123333 -0.009489       3        1  30.240007, topic_info=         Term        Freq       Total Category  logprob  loglift\n",
       "448     sound  504.000000  504.000000  Default  30.0000  30.0000\n",
       "430    guitar  501.000000  501.000000  Default  29.0000  29.0000\n",
       "451    string  450.000000  450.000000  Default  28.0000  28.0000\n",
       "380    feeder  407.000000  407.000000  Default  27.0000  27.0000\n",
       "784     pedal  292.000000  292.000000  Default  26.0000  26.0000\n",
       "..        ...         ...         ...      ...      ...      ...\n",
       "529      want  156.764557  457.227692   Topic3  -5.6115   0.1256\n",
       "84   conjurer  166.894928  673.586304   Topic3  -5.5489  -0.1992\n",
       "291     thing  152.163589  481.870300   Topic3  -5.6413   0.0433\n",
       "55      think  148.544495  544.354065   Topic3  -5.6654  -0.1027\n",
       "336      come  141.057327  535.309448   Topic3  -5.7171  -0.1377\n",
       "\n",
       "[257 rows x 6 columns], token_table=      Topic      Freq      Term\n",
       "term                           \n",
       "222       1  0.011138  acoustic\n",
       "222       2  0.011138  acoustic\n",
       "222       3  0.980106  acoustic\n",
       "328       1  0.011162     apply\n",
       "328       2  0.959960     apply\n",
       "...     ...       ...       ...\n",
       "62        2  0.303516      work\n",
       "62        3  0.333025      work\n",
       "521       1  0.391677      year\n",
       "521       2  0.357944      year\n",
       "521       3  0.251123      year\n",
       "\n",
       "[491 rows x 3 columns], R=30, lambda_step=0.01, plot_opts={'xlab': 'PC1', 'ylab': 'PC2'}, topic_order=[1, 2, 3])"
      ]
     },
     "execution_count": 75,
     "metadata": {},
     "output_type": "execute_result"
    }
   ],
   "source": [
    "# Visualizar los topics\n",
    "pyLDAvis.enable_notebook()\n",
    "vis = pyLDAvis.gensim.prepare(lda_model, corpus, dictionary)\n",
    "vis"
   ]
  },
  {
   "cell_type": "code",
   "execution_count": 77,
   "metadata": {},
   "outputs": [],
   "source": [
    "pyLDAvis.save_html(vis, './topics_vis_0.html')"
   ]
  },
  {
   "cell_type": "markdown",
   "metadata": {},
   "source": [
    "Si abrimos el fichero html que hemos generado y ponemos landa a 0,7 podemos observar:\n",
    "\n",
    "En el topic 1 la palabra más importante es baby y hay otras muchas palabras que tienen que ver con bebé. Como hija, bote, cambiar, mes, pezón, pequeño, silla... Parece que el topic 1 ha detectado bastante bien la categoría bebé."
   ]
  },
  {
   "cell_type": "markdown",
   "metadata": {},
   "source": [
    "El topic 2 parece que se refiere a jardín. Tiene algunas palabras muy significativas, que son ratón, pájaro, comedero, semilla y manguera que prácticamente sólo aparecen en este topic y otras como trampa, jardín, ardilla que tambien son bastante significativas."
   ]
  },
  {
   "cell_type": "markdown",
   "metadata": {},
   "source": [
    "El topic 3, por tanto, debe referirse a los instrumentos musicales y así es. Las palabras más significativas son sonido, pedal, cuerda y guitarra. Ademas de otras como cable, grabar, micrófono, tocar. Este toopic está clarisimamente diferenciado."
   ]
  },
  {
   "cell_type": "markdown",
   "metadata": {},
   "source": [
    "Por tanto podemos estar satisfechos porque el modelo ha funcionado bastante bien y ha distinguido de una manera bastante clara nuestros tres topics."
   ]
  }
 ],
 "metadata": {
  "kernelspec": {
   "display_name": "Python 3",
   "language": "python",
   "name": "python3"
  },
  "language_info": {
   "codemirror_mode": {
    "name": "ipython",
    "version": 3
   },
   "file_extension": ".py",
   "mimetype": "text/x-python",
   "name": "python",
   "nbconvert_exporter": "python",
   "pygments_lexer": "ipython3",
   "version": "3.7.6"
  }
 },
 "nbformat": 4,
 "nbformat_minor": 4
}
