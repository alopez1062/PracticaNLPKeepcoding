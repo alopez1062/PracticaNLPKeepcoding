{
 "cells": [
  {
   "cell_type": "markdown",
   "metadata": {},
   "source": [
    "# Análisis de sentimiento"
   ]
  },
  {
   "cell_type": "code",
   "execution_count": 436,
   "metadata": {},
   "outputs": [],
   "source": [
    "import pandas as pd\n",
    "from stop_words import get_stop_words\n",
    "import string\n",
    "import unicodedata\n",
    "from num2words import num2words\n",
    "from sklearn.model_selection import train_test_split\n",
    "from sklearn.feature_extraction.text import CountVectorizer\n",
    "from sklearn.linear_model import LogisticRegression\n",
    "from sklearn.metrics import confusion_matrix, classification_report\n",
    "from sklearn.metrics import accuracy_score, confusion_matrix, classification_report, roc_curve\n",
    "from sklearn.feature_extraction.text import TfidfTransformer\n",
    "from sklearn.feature_extraction.text import TfidfVectorizer\n",
    "from sklearn.feature_selection import chi2\n",
    "import matplotlib.pyplot as plt\n",
    "import numpy as np"
   ]
  },
  {
   "cell_type": "markdown",
   "metadata": {},
   "source": [
    "Cargamos los datos obtenidos en el punto 1 de la práctica."
   ]
  },
  {
   "cell_type": "code",
   "execution_count": 437,
   "metadata": {},
   "outputs": [],
   "source": [
    "df = pd.read_csv('./dataset/amazon.csv')"
   ]
  },
  {
   "cell_type": "markdown",
   "metadata": {},
   "source": [
    "Nos quedamos con los 7000 primeros registros y eliminamos todos los na que pudiera haber."
   ]
  },
  {
   "cell_type": "code",
   "execution_count": 438,
   "metadata": {},
   "outputs": [
    {
     "data": {
      "text/plain": [
       "reviewText     True\n",
       "overall       False\n",
       "dtype: bool"
      ]
     },
     "execution_count": 438,
     "metadata": {},
     "output_type": "execute_result"
    }
   ],
   "source": [
    "df = df.iloc[:7000]\n",
    "df.isnull().any()"
   ]
  },
  {
   "cell_type": "code",
   "execution_count": 439,
   "metadata": {},
   "outputs": [],
   "source": [
    "df.dropna(inplace=True)"
   ]
  },
  {
   "cell_type": "markdown",
   "metadata": {},
   "source": [
    "Vamos a realizar el mismo preprocesado que para topics pero de momento no usaremos stopwords porque puede que elimine palabras importantes como not."
   ]
  },
  {
   "cell_type": "code",
   "execution_count": 440,
   "metadata": {},
   "outputs": [],
   "source": [
    "# Obtenemos un diccionario de lemas\n",
    "lemmas_dict = {}\n",
    "with open('./dataset/lemmatization-en.txt', 'r', encoding='utf-8') as f:\n",
    "    for line in f:\n",
    "        (key, val) = line.split()\n",
    "        lemmas_dict[str(val)] = key"
   ]
  },
  {
   "cell_type": "code",
   "execution_count": 441,
   "metadata": {},
   "outputs": [],
   "source": [
    "# Tabla para eliminar signos de puntuación\n",
    "table = str.maketrans('', '', string.punctuation)\n",
    "# Procesamos los textos\n",
    "processed_texts = []\n",
    "idx_error = []\n",
    "for text in df['reviewText']:\n",
    "    processed_text = []\n",
    "    # Convertimos el texto a minúsuculas\n",
    "    text = text.lower()\n",
    "    # Eliminamos caracteres extraños\n",
    "    text = unicodedata.normalize('NFKD', text).encode('ascii', 'ignore').decode('utf-8', 'ignore')\n",
    "    # Segmentamos el texto en frases\n",
    "    sentences = text.split('.')\n",
    "    # Para cada frase\n",
    "    for sentence in sentences:\n",
    "        words = sentence.split(' ')\n",
    "        # Para cada palabra\n",
    "        for word in words:\n",
    "            # Eliminamos stopwords y signos de puntuación\n",
    "            if word not in string.punctuation: \n",
    "                word = word.translate(table)\n",
    "                word = lemmas_dict.get(word, word)\n",
    "                # Pasamos lo números a palabras\n",
    "                if word.isdigit():\n",
    "                    word = num2words(word, lang='en')\n",
    "                # Eliminamos palabras menores de 3 letras\n",
    "                if len(word) > 2:\n",
    "                    processed_text.append(word)\n",
    "    processed_texts.append(' '.join(processed_text))"
   ]
  },
  {
   "cell_type": "code",
   "execution_count": 442,
   "metadata": {},
   "outputs": [],
   "source": [
    "df['reviewText'] = processed_texts"
   ]
  },
  {
   "cell_type": "markdown",
   "metadata": {},
   "source": [
    "Ahora vamos a transformar la columna overall a un sentiemiento positivo o negativo. Hemos decidido que por debajo de 3 va a ser negativo y de momento igual a tres o superior será postivo."
   ]
  },
  {
   "cell_type": "code",
   "execution_count": 443,
   "metadata": {},
   "outputs": [],
   "source": [
    "def label_sentiment(row):\n",
    "    if int(row['overall']) < 3:\n",
    "        return 'neg'\n",
    "    else:\n",
    "        return 'pos'"
   ]
  },
  {
   "cell_type": "code",
   "execution_count": 444,
   "metadata": {},
   "outputs": [],
   "source": [
    "df['sentiment_label'] = df.apply(lambda row: label_sentiment(row), axis=1)"
   ]
  },
  {
   "cell_type": "code",
   "execution_count": 445,
   "metadata": {},
   "outputs": [
    {
     "data": {
      "text/html": [
       "<div>\n",
       "<style scoped>\n",
       "    .dataframe tbody tr th:only-of-type {\n",
       "        vertical-align: middle;\n",
       "    }\n",
       "\n",
       "    .dataframe tbody tr th {\n",
       "        vertical-align: top;\n",
       "    }\n",
       "\n",
       "    .dataframe thead th {\n",
       "        text-align: right;\n",
       "    }\n",
       "</style>\n",
       "<table border=\"1\" class=\"dataframe\">\n",
       "  <thead>\n",
       "    <tr style=\"text-align: right;\">\n",
       "      <th></th>\n",
       "      <th>reviewText</th>\n",
       "      <th>overall</th>\n",
       "      <th>sentiment_label</th>\n",
       "    </tr>\n",
       "  </thead>\n",
       "  <tbody>\n",
       "    <tr>\n",
       "      <th>0</th>\n",
       "      <td>elementary dear watson your man have proper to...</td>\n",
       "      <td>5</td>\n",
       "      <td>pos</td>\n",
       "    </tr>\n",
       "    <tr>\n",
       "      <th>1</th>\n",
       "      <td>this nice unit solid and good build easy fill ...</td>\n",
       "      <td>3</td>\n",
       "      <td>pos</td>\n",
       "    </tr>\n",
       "    <tr>\n",
       "      <th>2</th>\n",
       "      <td>love this bottle they leak like some other one...</td>\n",
       "      <td>4</td>\n",
       "      <td>pos</td>\n",
       "    </tr>\n",
       "    <tr>\n",
       "      <th>3</th>\n",
       "      <td>love this kit everything this kit necessity an...</td>\n",
       "      <td>5</td>\n",
       "      <td>pos</td>\n",
       "    </tr>\n",
       "    <tr>\n",
       "      <th>4</th>\n",
       "      <td>order this strap button upgrade some exist but...</td>\n",
       "      <td>5</td>\n",
       "      <td>pos</td>\n",
       "    </tr>\n",
       "  </tbody>\n",
       "</table>\n",
       "</div>"
      ],
      "text/plain": [
       "                                          reviewText  overall sentiment_label\n",
       "0  elementary dear watson your man have proper to...        5             pos\n",
       "1  this nice unit solid and good build easy fill ...        3             pos\n",
       "2  love this bottle they leak like some other one...        4             pos\n",
       "3  love this kit everything this kit necessity an...        5             pos\n",
       "4  order this strap button upgrade some exist but...        5             pos"
      ]
     },
     "execution_count": 445,
     "metadata": {},
     "output_type": "execute_result"
    }
   ],
   "source": [
    "df.head()"
   ]
  },
  {
   "cell_type": "code",
   "execution_count": 446,
   "metadata": {},
   "outputs": [
    {
     "data": {
      "text/plain": [
       "pos    6356\n",
       "neg     642\n",
       "Name: sentiment_label, dtype: int64"
      ]
     },
     "execution_count": 446,
     "metadata": {},
     "output_type": "execute_result"
    }
   ],
   "source": [
    "df['sentiment_label'].value_counts()"
   ]
  },
  {
   "cell_type": "markdown",
   "metadata": {},
   "source": [
    "Separamos en conjunto de train y test."
   ]
  },
  {
   "cell_type": "code",
   "execution_count": 447,
   "metadata": {},
   "outputs": [],
   "source": [
    "X_train, X_test, y_train, y_test = train_test_split(\n",
    "    df['reviewText'],\n",
    "    df['sentiment_label'],\n",
    "    train_size=0.75,\n",
    "    test_size=0.25,\n",
    "    random_state=42,\n",
    "    shuffle=True\n",
    ")"
   ]
  },
  {
   "cell_type": "markdown",
   "metadata": {},
   "source": [
    "Vamos a ir con la extracción de características.\n",
    "\n",
    "Vamos a ir probando de modelos mas simples a otros más complejos para ver como se comportan."
   ]
  },
  {
   "cell_type": "code",
   "execution_count": 448,
   "metadata": {},
   "outputs": [],
   "source": [
    "cv = CountVectorizer()\n",
    "X_train_cv = cv.fit_transform(X_train)\n",
    "X_test_cv = cv.transform(X_test)"
   ]
  },
  {
   "cell_type": "code",
   "execution_count": 449,
   "metadata": {},
   "outputs": [
    {
     "name": "stdout",
     "output_type": "stream",
     "text": [
      "Accuracy for C=0.01: 0.9011428571428571\n",
      "Accuracy for C=0.05: 0.9074285714285715\n",
      "Accuracy for C=0.25: 0.9114285714285715\n",
      "Accuracy for C=0.5: 0.9057142857142857\n",
      "Accuracy for C=1: 0.8994285714285715\n",
      "Accuracy for C=10: 0.896\n",
      "Accuracy for C=100: 0.8942857142857142\n"
     ]
    }
   ],
   "source": [
    "c_params = [0.01, 0.05, 0.25, 0.5, 1, 10, 100]\n",
    "\n",
    "train_acc = list()\n",
    "test_acc = list()\n",
    "for c in c_params:\n",
    "    lr = LogisticRegression(C=c, solver='lbfgs', max_iter=500)\n",
    "    lr.fit(X_train_cv, y_train)\n",
    "    \n",
    "    train_predict = lr.predict(X_train_cv)\n",
    "    test_predict = lr.predict(X_test_cv)\n",
    "    \n",
    "    print (\"Accuracy for C={}: {}\".format(c, accuracy_score(y_test, test_predict)))\n",
    "    \n",
    "    train_acc.append(accuracy_score(y_train, train_predict))\n",
    "    test_acc.append(accuracy_score(y_test, test_predict))"
   ]
  },
  {
   "cell_type": "code",
   "execution_count": 450,
   "metadata": {},
   "outputs": [],
   "source": [
    "lr = LogisticRegression(C=0.25, solver='lbfgs', max_iter=500)\n",
    "lr.fit(X_train_cv, y_train)\n",
    "y_pred_cv = lr.predict(X_test_cv)"
   ]
  },
  {
   "cell_type": "code",
   "execution_count": 451,
   "metadata": {},
   "outputs": [
    {
     "name": "stdout",
     "output_type": "stream",
     "text": [
      "CountVectorizer simple\n",
      "\n",
      "[[  38  129]\n",
      " [  26 1557]]\n",
      "              precision    recall  f1-score   support\n",
      "\n",
      "         neg       0.59      0.23      0.33       167\n",
      "         pos       0.92      0.98      0.95      1583\n",
      "\n",
      "    accuracy                           0.91      1750\n",
      "   macro avg       0.76      0.61      0.64      1750\n",
      "weighted avg       0.89      0.91      0.89      1750\n",
      "\n",
      "Accuracy score:0.9114285714285715\n"
     ]
    }
   ],
   "source": [
    "print('CountVectorizer simple\\n')\n",
    "print(confusion_matrix(y_test, y_pred_cv))\n",
    "print(classification_report(y_test, y_pred_cv))\n",
    "print('Accuracy score:{}'.format(accuracy_score(y_test, y_pred_cv)))"
   ]
  },
  {
   "cell_type": "markdown",
   "metadata": {},
   "source": [
    "Parece que fallamos bastante en las negativas, tengo la impresión de que el modelo casi siempre da positiva y como hay más positivas que negativas el accuracy es alto, pero en las negativas falla bastante."
   ]
  },
  {
   "cell_type": "markdown",
   "metadata": {},
   "source": [
    "Probamos con otra extracción de características."
   ]
  },
  {
   "cell_type": "code",
   "execution_count": 452,
   "metadata": {},
   "outputs": [],
   "source": [
    "cv = CountVectorizer(ngram_range=(1, 3), max_features=5000, max_df=0.9, min_df=5)\n",
    "X_train_cv = cv.fit_transform(X_train)\n",
    "X_test_cv = cv.transform(X_test)"
   ]
  },
  {
   "cell_type": "code",
   "execution_count": 453,
   "metadata": {},
   "outputs": [
    {
     "name": "stdout",
     "output_type": "stream",
     "text": [
      "Accuracy for C=0.01: 0.9017142857142857\n",
      "Accuracy for C=0.05: 0.9057142857142857\n",
      "Accuracy for C=0.25: 0.908\n",
      "Accuracy for C=0.5: 0.9114285714285715\n",
      "Accuracy for C=1: 0.908\n",
      "Accuracy for C=10: 0.9\n",
      "Accuracy for C=100: 0.8988571428571429\n",
      "Accuracy for C=1000: 0.8954285714285715\n"
     ]
    }
   ],
   "source": [
    "c_params = [0.01, 0.05, 0.25, 0.5, 1, 10, 100, 1000]\n",
    "\n",
    "train_acc = list()\n",
    "test_acc = list()\n",
    "for c in c_params:\n",
    "    lr = LogisticRegression(C=c, solver='lbfgs', max_iter=500)\n",
    "    lr.fit(X_train_cv, y_train)\n",
    "    \n",
    "    train_predict = lr.predict(X_train_cv)\n",
    "    test_predict = lr.predict(X_test_cv)\n",
    "    \n",
    "    print (\"Accuracy for C={}: {}\".format(c, accuracy_score(y_test, test_predict)))\n",
    "    \n",
    "    train_acc.append(accuracy_score(y_train, train_predict))\n",
    "    test_acc.append(accuracy_score(y_test, test_predict))"
   ]
  },
  {
   "cell_type": "code",
   "execution_count": 454,
   "metadata": {},
   "outputs": [
    {
     "data": {
      "image/png": "[encoded data removed]",
      "text/plain": [
       "<Figure size 864x576 with 1 Axes>"
      ]
     },
     "metadata": {
      "needs_background": "light"
     },
     "output_type": "display_data"
    }
   ],
   "source": [
    "plt.figure(figsize=(12, 8))\n",
    "plt.plot(train_acc, label='train')\n",
    "plt.plot(test_acc, label='test')\n",
    "plt.axvline(np.argmax(test_acc), c='g', ls='--', alpha=0.8)\n",
    "plt.title('Accuracy evolution for different C values')\n",
    "plt.xlabel('C')\n",
    "plt.ylabel('Accuracy')\n",
    "plt.legend()\n",
    "plt.grid()\n",
    "plt.xticks(list(range(len(c_params))), c_params)\n",
    "plt.tight_layout()\n",
    "plt.show()"
   ]
  },
  {
   "cell_type": "code",
   "execution_count": 455,
   "metadata": {},
   "outputs": [],
   "source": [
    "lr = LogisticRegression(C=0.5, solver='lbfgs', max_iter=500)\n",
    "lr.fit(X_train_cv, y_train)\n",
    "y_pred_cv = lr.predict(X_test_cv)"
   ]
  },
  {
   "cell_type": "code",
   "execution_count": 456,
   "metadata": {},
   "outputs": [
    {
     "name": "stdout",
     "output_type": "stream",
     "text": [
      "CountVectorizer simple\n",
      "\n",
      "[[  44  123]\n",
      " [  32 1551]]\n",
      "              precision    recall  f1-score   support\n",
      "\n",
      "         neg       0.58      0.26      0.36       167\n",
      "         pos       0.93      0.98      0.95      1583\n",
      "\n",
      "    accuracy                           0.91      1750\n",
      "   macro avg       0.75      0.62      0.66      1750\n",
      "weighted avg       0.89      0.91      0.90      1750\n",
      "\n",
      "Accuracy score:0.9114285714285715\n"
     ]
    }
   ],
   "source": [
    "print('CountVectorizer simple\\n')\n",
    "print(confusion_matrix(y_test, y_pred_cv))\n",
    "print(classification_report(y_test, y_pred_cv))\n",
    "print('Accuracy score:{}'.format(accuracy_score(y_test, y_pred_cv)))"
   ]
  },
  {
   "cell_type": "markdown",
   "metadata": {},
   "source": [
    "No conseguimos mejorar."
   ]
  },
  {
   "cell_type": "markdown",
   "metadata": {},
   "source": [
    "Vamos a probar con TF-IDF Vectorizer a ver si lo mejoramos."
   ]
  },
  {
   "cell_type": "code",
   "execution_count": 457,
   "metadata": {},
   "outputs": [],
   "source": [
    "tfidf = TfidfVectorizer()\n",
    "X_train_tfidf = tfidf.fit_transform(X_train)\n",
    "X_test_tfidf = tfidf.transform(X_test)"
   ]
  },
  {
   "cell_type": "code",
   "execution_count": 458,
   "metadata": {},
   "outputs": [
    {
     "name": "stdout",
     "output_type": "stream",
     "text": [
      "Accuracy for C=0.01: 0.9045714285714286\n",
      "Accuracy for C=0.05: 0.9045714285714286\n",
      "Accuracy for C=0.25: 0.9045714285714286\n",
      "Accuracy for C=0.5: 0.9045714285714286\n",
      "Accuracy for C=1: 0.9051428571428571\n",
      "Accuracy for C=10: 0.9142857142857143\n",
      "Accuracy for C=100: 0.9097142857142857\n",
      "Accuracy for C=1000: 0.9085714285714286\n"
     ]
    }
   ],
   "source": [
    "c_params = [0.01, 0.05, 0.25, 0.5, 1, 10, 100, 1000]\n",
    "\n",
    "train_acc = list()\n",
    "test_acc = list()\n",
    "for c in c_params:\n",
    "    lr = LogisticRegression(C=c, solver='lbfgs', max_iter=500)\n",
    "    lr.fit(X_train_tfidf, y_train)\n",
    "    \n",
    "    train_predict = lr.predict(X_train_tfidf)\n",
    "    test_predict = lr.predict(X_test_tfidf)\n",
    "    \n",
    "    print (\"Accuracy for C={}: {}\".format(c, accuracy_score(y_test, test_predict)))\n",
    "    \n",
    "    train_acc.append(accuracy_score(y_train, train_predict))\n",
    "    test_acc.append(accuracy_score(y_test, test_predict))"
   ]
  },
  {
   "cell_type": "code",
   "execution_count": 459,
   "metadata": {},
   "outputs": [],
   "source": [
    "lr = LogisticRegression(C=10, solver='lbfgs', max_iter=500)\n",
    "lr.fit(X_train_tfidf, y_train)\n",
    "y_pred_tfid = lr.predict(X_test_tfidf)"
   ]
  },
  {
   "cell_type": "code",
   "execution_count": 460,
   "metadata": {},
   "outputs": [
    {
     "name": "stdout",
     "output_type": "stream",
     "text": [
      "CountVectorizer simple\n",
      "\n",
      "[[  29  138]\n",
      " [  12 1571]]\n",
      "              precision    recall  f1-score   support\n",
      "\n",
      "         neg       0.71      0.17      0.28       167\n",
      "         pos       0.92      0.99      0.95      1583\n",
      "\n",
      "    accuracy                           0.91      1750\n",
      "   macro avg       0.81      0.58      0.62      1750\n",
      "weighted avg       0.90      0.91      0.89      1750\n",
      "\n",
      "Accuracy score:0.9142857142857143\n"
     ]
    }
   ],
   "source": [
    "print('CountVectorizer simple\\n')\n",
    "print(confusion_matrix(y_test, y_pred_tfid))\n",
    "print(classification_report(y_test, y_pred_tfid))\n",
    "print('Accuracy score:{}'.format(accuracy_score(y_test, y_pred_tfid)))"
   ]
  },
  {
   "cell_type": "markdown",
   "metadata": {},
   "source": [
    "Con este modelo hemos mejorado sensiblemente la precisión en las predicciones negativas."
   ]
  },
  {
   "cell_type": "markdown",
   "metadata": {},
   "source": [
    "Vamos a probar con otra extracción de características pero con este mismo TF-IDF Vectorizer a ver si lo mejoramos."
   ]
  },
  {
   "cell_type": "code",
   "execution_count": 461,
   "metadata": {},
   "outputs": [],
   "source": [
    "tfidf = TfidfVectorizer(ngram_range=(1, 4), max_features=5000, max_df=0.9, min_df=5)\n",
    "X_train_tfidf = tfidf.fit_transform(X_train)\n",
    "X_test_tfidf = tfidf.transform(X_test)"
   ]
  },
  {
   "cell_type": "code",
   "execution_count": 462,
   "metadata": {},
   "outputs": [
    {
     "name": "stdout",
     "output_type": "stream",
     "text": [
      "Accuracy for C=0.01: 0.9045714285714286\n",
      "Accuracy for C=0.05: 0.9045714285714286\n",
      "Accuracy for C=0.25: 0.9045714285714286\n",
      "Accuracy for C=0.5: 0.9045714285714286\n",
      "Accuracy for C=1: 0.9045714285714286\n",
      "Accuracy for C=10: 0.9205714285714286\n",
      "Accuracy for C=100: 0.9142857142857143\n",
      "Accuracy for C=1000: 0.9114285714285715\n",
      "Accuracy for C=10000: 0.9074285714285715\n",
      "Accuracy for C=100000: 0.9057142857142857\n",
      "Accuracy for C=1000000: 0.9062857142857143\n"
     ]
    }
   ],
   "source": [
    "c_params = [0.01, 0.05, 0.25, 0.5, 1, 10, 100, 1000, 10000, 100000, 1000000]\n",
    "\n",
    "train_acc = list()\n",
    "test_acc = list()\n",
    "for c in c_params:\n",
    "    lr = LogisticRegression(C=c, solver='lbfgs', max_iter=500)\n",
    "    lr.fit(X_train_tfidf, y_train)\n",
    "    \n",
    "    train_predict = lr.predict(X_train_tfidf)\n",
    "    test_predict = lr.predict(X_test_tfidf)\n",
    "    \n",
    "    print (\"Accuracy for C={}: {}\".format(c, accuracy_score(y_test, test_predict)))\n",
    "    \n",
    "    train_acc.append(accuracy_score(y_train, train_predict))\n",
    "    test_acc.append(accuracy_score(y_test, test_predict))"
   ]
  },
  {
   "cell_type": "code",
   "execution_count": 463,
   "metadata": {},
   "outputs": [
    {
     "data": {
      "image/png": "[encoded data removed]",
      "text/plain": [
       "<Figure size 864x576 with 1 Axes>"
      ]
     },
     "metadata": {
      "needs_background": "light"
     },
     "output_type": "display_data"
    }
   ],
   "source": [
    "plt.figure(figsize=(12, 8))\n",
    "plt.plot(train_acc, label='train')\n",
    "plt.plot(test_acc, label='test')\n",
    "plt.axvline(np.argmax(test_acc), c='g', ls='--', alpha=0.8)\n",
    "plt.title('Accuracy evolution for different C values')\n",
    "plt.xlabel('C')\n",
    "plt.ylabel('Accuracy')\n",
    "plt.legend()\n",
    "plt.grid()\n",
    "plt.xticks(list(range(len(c_params))), c_params)\n",
    "plt.tight_layout()\n",
    "plt.show()"
   ]
  },
  {
   "cell_type": "code",
   "execution_count": 464,
   "metadata": {},
   "outputs": [],
   "source": [
    "lr = LogisticRegression(C=10, solver='lbfgs', max_iter=500)\n",
    "lr.fit(X_train_tfidf, y_train)\n",
    "y_pred_tfid = lr.predict(X_test_tfidf)"
   ]
  },
  {
   "cell_type": "code",
   "execution_count": 465,
   "metadata": {},
   "outputs": [
    {
     "name": "stdout",
     "output_type": "stream",
     "text": [
      "CountVectorizer simple\n",
      "\n",
      "[[  36  131]\n",
      " [   8 1575]]\n",
      "              precision    recall  f1-score   support\n",
      "\n",
      "         neg       0.82      0.22      0.34       167\n",
      "         pos       0.92      0.99      0.96      1583\n",
      "\n",
      "    accuracy                           0.92      1750\n",
      "   macro avg       0.87      0.61      0.65      1750\n",
      "weighted avg       0.91      0.92      0.90      1750\n",
      "\n",
      "Accuracy score:0.9205714285714286\n"
     ]
    }
   ],
   "source": [
    "print('CountVectorizer simple\\n')\n",
    "print(confusion_matrix(y_test, y_pred_tfid))\n",
    "print(classification_report(y_test, y_pred_tfid))\n",
    "print('Accuracy score:{}'.format(accuracy_score(y_test, y_pred_tfid)))"
   ]
  },
  {
   "cell_type": "markdown",
   "metadata": {},
   "source": [
    "Hemos mejorado bastante el accuracy, ya llegamos a una precisión del 92% en positivas y del 82% en negativas."
   ]
  },
  {
   "cell_type": "markdown",
   "metadata": {},
   "source": [
    "Vamos a utilizar el test de chi cuadrado para ver que palabras tienen mas score en nuestro set de entrenamiento."
   ]
  },
  {
   "cell_type": "code",
   "execution_count": 466,
   "metadata": {},
   "outputs": [
    {
     "data": {
      "image/png": "[encoded data removed]",
      "text/plain": [
       "<Figure size 864x576 with 1 Axes>"
      ]
     },
     "metadata": {
      "needs_background": "light"
     },
     "output_type": "display_data"
    }
   ],
   "source": [
    "# Compute the chi-squared score for each word in the training set and show the values\n",
    "i = 15\n",
    "\n",
    "chi2score = chi2(X_train_cv, y_train)[0]\n",
    "scores = list(zip(cv.get_feature_names(), chi2score))\n",
    "sorted_scores = sorted(scores, key=lambda x:x[1])\n",
    "topchi2 = list(zip(*sorted_scores[-i:]))\n",
    "x = range(len(topchi2[1]))\n",
    "labels = topchi2[0]\n",
    "\n",
    "plt.figure(figsize=(12, 8))\n",
    "plt.barh(x,topchi2[1], align='center', alpha=0.5)\n",
    "plt.plot(topchi2[1], x, '-o', markersize=5, alpha=0.8)\n",
    "plt.yticks(x, labels, fontsize=12)\n",
    "plt.xlabel('$\\chi^2$', fontsize=26)\n",
    "plt.ylabel('word', fontsize=16)\n",
    "plt.title('Top {} $\\chi^2$ score for each word in the training set'.format(i), fontsize=20)\n",
    "plt.grid()\n",
    "plt.tight_layout()\n",
    "plt.show();"
   ]
  },
  {
   "cell_type": "code",
   "execution_count": 467,
   "metadata": {},
   "outputs": [
    {
     "data": {
      "image/png": "[encoded data removed]",
      "text/plain": [
       "<Figure size 864x576 with 1 Axes>"
      ]
     },
     "metadata": {
      "needs_background": "light"
     },
     "output_type": "display_data"
    }
   ],
   "source": [
    "# Compute the chi-squared score for each word in the training set and show the values\n",
    "i = 15\n",
    "\n",
    "chi2score = chi2(X_train_tfidf, y_train)[0]\n",
    "scores = list(zip(cv.get_feature_names(), chi2score))\n",
    "sorted_scores = sorted(scores, key=lambda x:x[1])\n",
    "topchi2 = list(zip(*sorted_scores[-i:]))\n",
    "x = range(len(topchi2[1]))\n",
    "labels = topchi2[0]\n",
    "\n",
    "plt.figure(figsize=(12, 8))\n",
    "plt.barh(x,topchi2[1], align='center', alpha=0.5)\n",
    "plt.plot(topchi2[1], x, '-o', markersize=5, alpha=0.8)\n",
    "plt.yticks(x, labels, fontsize=12)\n",
    "plt.xlabel('$\\chi^2$', fontsize=26)\n",
    "plt.ylabel('word', fontsize=16)\n",
    "plt.title('Top {} $\\chi^2$ score for each word in the training set'.format(i), fontsize=20)\n",
    "plt.grid()\n",
    "plt.tight_layout()\n",
    "plt.show();"
   ]
  },
  {
   "cell_type": "markdown",
   "metadata": {},
   "source": [
    "Hay tokens que se ve claramente que pueden ayudar a la clasificación como not (si hubieramos usado stopwords habría desaparecido), your money, useless, none the, very easy, usual..."
   ]
  },
  {
   "cell_type": "markdown",
   "metadata": {},
   "source": [
    "Finalmente hemos conseguido una precisión bastante buena, pero teniendo en cuenta que estamos usando un problema binario (que es mas sencillo) si ya tuvieramos otra categoría de opniones neutras o incluso que predecir el número de estrellas sería más complicado."
   ]
  },
  {
   "cell_type": "code",
   "execution_count": null,
   "metadata": {},
   "outputs": [],
   "source": []
  }
 ],
 "metadata": {
  "kernelspec": {
   "display_name": "Python 3",
   "language": "python",
   "name": "python3"
  },
  "language_info": {
   "codemirror_mode": {
    "name": "ipython",
    "version": 3
   },
   "file_extension": ".py",
   "mimetype": "text/x-python",
   "name": "python",
   "nbconvert_exporter": "python",
   "pygments_lexer": "ipython3",
   "version": "3.7.6"
  }
 },
 "nbformat": 4,
 "nbformat_minor": 4
}
